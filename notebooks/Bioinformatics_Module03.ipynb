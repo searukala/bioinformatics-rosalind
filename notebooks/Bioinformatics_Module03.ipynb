{
  "nbformat": 4,
  "nbformat_minor": 0,
  "metadata": {
    "colab": {
      "provenance": [],
      "authorship_tag": "ABX9TyOO+pPU2nju4HtS5qw0C11I",
      "include_colab_link": true
    },
    "kernelspec": {
      "name": "python3",
      "display_name": "Python 3"
    },
    "language_info": {
      "name": "python"
    }
  },
  "cells": [
    {
      "cell_type": "markdown",
      "metadata": {
        "id": "view-in-github",
        "colab_type": "text"
      },
      "source": [
        "<a href=\"https://colab.research.google.com/github/searukala/bioinformatics-rosalind/blob/main/notebooks/Bioinformatics_Module03.ipynb\" target=\"_parent\"><img src=\"https://colab.research.google.com/assets/colab-badge.svg\" alt=\"Open In Colab\"/></a>"
      ]
    },
    {
      "cell_type": "code",
      "source": [
        "# The input() function prompts the user for a line of input.\n",
        "# The user will be asked to enter two numbers separated by a space.\n",
        "input_string = input(\"Enter the two positive integers separated by a space: \")\n",
        "\n",
        "# The .split() method divides the input string into a list of strings\n",
        "# based on the space character.\n",
        "# The map(int, ...) function then converts each string in the list to an integer.\n",
        "# These integers are then assigned to the variables 'a' and 'b'.\n",
        "a, b = map(int, input_string.split())\n",
        "\n",
        "# According to the Pythagorean theorem, the square of the hypotenuse\n",
        "# of a right triangle (c²) is equal to the sum of the squares of its two legs\n",
        "# (a² + b²).\n",
        "# The ** operator is used for exponentiation.\n",
        "# The result is then printed to the console.\n",
        "result = a**2 + b**2\n",
        "print(result)"
      ],
      "metadata": {
        "colab": {
          "base_uri": "https://localhost:8080/"
        },
        "id": "W0pw-9gi6s_3",
        "outputId": "f79847a0-7fea-4248-af1b-44e0366a2bd7"
      },
      "execution_count": 9,
      "outputs": [
        {
          "output_type": "stream",
          "name": "stdout",
          "text": [
            "Enter the two positive integers separated by a space: 983 852\n",
            "1692193\n"
          ]
        }
      ]
    },
    {
      "cell_type": "code",
      "execution_count": 3,
      "metadata": {
        "colab": {
          "base_uri": "https://localhost:8080/"
        },
        "id": "EgTmEIXZ2wh0",
        "outputId": "f737b6f9-9cda-4814-ceb8-ed788781f583"
      },
      "outputs": [
        {
          "output_type": "stream",
          "name": "stdout",
          "text": [
            "Paste your dataset string (single line):\n",
            "9KujlcV6JXrrXiKMRgCaKf3ij69S77ldv2bBicJDqQYxIuhSaxicolaecJ3TQoZXCEZqOETvgDRqoKG0poXiQrvKSa30tgwpqXWCUgd3hmLUn2Ui69JwjNDnzFp3P5TBJMzserpentinaj9muTkRI0u8Ij4qG5KYIvcZLeJKtp0ciB3cR7kfh5W8M.\n",
            "Enter 4 integers (a b c d) separated by spaces:\n",
            "47 54 131 140\n",
            "\n",
            "✅ Output:\n",
            "Saxicola serpentina\n"
          ]
        }
      ],
      "source": [
        "def slice_string(s, a, b, c, d):\n",
        "    # Python slice excludes the end, so add +1\n",
        "    part1 = s[a:b+1]\n",
        "    part2 = s[c:d+1]\n",
        "    return part1 + \" \" + part2\n",
        "\n",
        "# Read dataset from user input\n",
        "print(\"Paste your dataset string (single line):\")\n",
        "s = input().strip()\n",
        "\n",
        "print(\"Enter 4 integers (a b c d) separated by spaces:\")\n",
        "a, b, c, d = map(int, input().split())\n",
        "\n",
        "# Compute and display result\n",
        "result = slice_string(s, a, b, c, d)\n",
        "print(\"\\n Output:\")\n",
        "print(result)\n"
      ]
    },
    {
      "cell_type": "code",
      "source": [
        "#3 Function to compute sum of odd integers between a and b\n",
        "def sum_of_odds(a, b):\n",
        "    total = 0\n",
        "    for i in range(a, b+1):   # inclusive of b\n",
        "        if i % 2 == 1:        # check if odd\n",
        "            total += i\n",
        "    return total\n",
        "\n",
        "# Read input from user\n",
        "a, b = map(int, input(\"Enter two integers (a b): \").split())\n",
        "\n",
        "# Compute result\n",
        "result = sum_of_odds(a, b)\n",
        "print(result)\n"
      ],
      "metadata": {
        "colab": {
          "base_uri": "https://localhost:8080/"
        },
        "id": "hg8MgOVU6j8Z",
        "outputId": "7649d4f5-9a04-485b-9bac-a48a77a297e3"
      },
      "execution_count": 6,
      "outputs": [
        {
          "output_type": "stream",
          "name": "stdout",
          "text": [
            "Enter two integers (a b): 4973 9621\n",
            "16965525\n"
          ]
        }
      ]
    },
    {
      "cell_type": "code",
      "source": [
        "# Open the input file named 'input.txt' in read mode ('r').\n",
        "# The 'with' statement ensures the file is properly closed, even if errors occur.\n",
        "with open('/content/rosalind_ini5.txt', 'r') as infile:\n",
        "    # Read all lines from the file into a list.\n",
        "    # The .readlines() method is great for this, as it keeps the original\n",
        "    # newline characters.\n",
        "    lines = infile.readlines()\n",
        "\n",
        "# The problem requires 1-based numbering.\n",
        "# We'll use a for loop with enumerate() to get both the index and the line content.\n",
        "# The index is 0-based, so we'll add 1 to get the correct line number.\n",
        "for index, line in enumerate(lines):\n",
        "    # We check if the line number (index + 1) is even using the modulo operator (%).\n",
        "    # If the remainder of the division by 2 is 0, the number is even.\n",
        "    if (index + 1) % 2 == 0:\n",
        "        # If the line is even-numbered, we print its content.\n",
        "        # The 'end=\"\"' argument prevents print from adding an extra newline,\n",
        "        # ensuring the output preserves the original line breaks.\n",
        "        print(line, end=\"\")"
      ],
      "metadata": {
        "colab": {
          "base_uri": "https://localhost:8080/"
        },
        "id": "uSB8z5KT755U",
        "outputId": "83300b04-9a2d-47bd-f91f-f5919d0a71ed"
      },
      "execution_count": 13,
      "outputs": [
        {
          "output_type": "stream",
          "name": "stdout",
          "text": [
            "Some things in life are bad, they can really make you mad\n",
            "Other things just make you swear and curse\n",
            "When you're chewing on life's gristle, don't grumble give a whistle\n",
            "This will help things turn out for the best\n",
            "Always look on the bright side of life\n",
            "Always look on the right side of life\n",
            "If life seems jolly rotten, there's something you've forgotten\n",
            "And that's to laugh and smile and dance and sing\n",
            "When you're feeling in the dumps, don't be silly, chumps\n",
            "Just purse your lips and whistle, that's the thing\n",
            "So, always look on the bright side of death\n",
            "Just before you draw your terminal breath\n",
            "Life's a counterfeit and when you look at it\n",
            "Life's a laugh and death's the joke, it's true\n",
            "You see, it's all a show, keep them laughing as you go\n",
            "Just remember the last laugh is on you\n",
            "Always look on the bright side of life\n",
            "And always look on the right side of life\n",
            "Always look on the bright side of life\n",
            "And always look on the right side of life\n"
          ]
        }
      ]
    },
    {
      "cell_type": "code",
      "source": [
        "# The input() function prompts the user for a line of input.\n",
        "# The user will paste or type the entire string of text.\n",
        "print(\"Please paste your text and press Enter:\")\n",
        "s = input()\n",
        "\n",
        "# We split the input string 's' into a list of words.\n",
        "# The .split() method handles separating words by spaces.\n",
        "words = s.split()\n",
        "\n",
        "# A dictionary is used to store the frequency of each word.\n",
        "# Keys will be the unique words, and values will be their counts.\n",
        "word_counts = {}\n",
        "\n",
        "# Iterate over each word in the list.\n",
        "for word in words:\n",
        "    # We use a dictionary method, .get(), to simplify the logic.\n",
        "    # It returns the value for a key if it's in the dictionary,\n",
        "    # and a default value (in this case, 0) if it's not.\n",
        "    # We then add 1 to this value and assign it back to the dictionary.\n",
        "    word_counts[word] = word_counts.get(word, 0) + 1\n",
        "\n",
        "# Finally, we loop through the dictionary to display the results.\n",
        "# The .items() method gives us each key-value pair.\n",
        "for word, count in word_counts.items():\n",
        "    print(f\"{word} {count}\")"
      ],
      "metadata": {
        "colab": {
          "base_uri": "https://localhost:8080/"
        },
        "id": "xtY8vYFs-JOn",
        "outputId": "e1f99d37-64f2-4f79-a4ae-a048618c37f5"
      },
      "execution_count": 14,
      "outputs": [
        {
          "output_type": "stream",
          "name": "stdout",
          "text": [
            "Please paste your text and press Enter:\n",
            "When I find myself in times of trouble Mother Mary comes to me Speaking words of wisdom let it be And in my hour of darkness she is standing right in front of me Speaking words of wisdom let it be Let it be let it be let it be let it be Whisper words of wisdom let it be And when the broken hearted people living in the world agree There will be an answer let it be For though they may be parted there is still a chance that they will see There will be an answer let it be Let it be let it be let it be let it be There will be an answer let it be Let it be let it be let it be let it be Whisper words of wisdom let it be Let it be let it be let it be let it be Whisper words of wisdom let it be And when the night is cloudy there is still a light that shines on me Shine until tomorrow let it be I wake up to the sound of music Mother Mary comes to me Speaking words of wisdom let it be Let it be let it be let it be yeah let it be There will be an answer let it be Let it be let it be let it be yeah let it be Whisper words of wisdom let it be\n",
            "When 1\n",
            "I 2\n",
            "find 1\n",
            "myself 1\n",
            "in 4\n",
            "times 1\n",
            "of 11\n",
            "trouble 1\n",
            "Mother 2\n",
            "Mary 2\n",
            "comes 2\n",
            "to 3\n",
            "me 4\n",
            "Speaking 3\n",
            "words 7\n",
            "wisdom 7\n",
            "let 30\n",
            "it 36\n",
            "be 41\n",
            "And 3\n",
            "my 1\n",
            "hour 1\n",
            "darkness 1\n",
            "she 1\n",
            "is 4\n",
            "standing 1\n",
            "right 1\n",
            "front 1\n",
            "Let 6\n",
            "Whisper 4\n",
            "when 2\n",
            "the 4\n",
            "broken 1\n",
            "hearted 1\n",
            "people 1\n",
            "living 1\n",
            "world 1\n",
            "agree 1\n",
            "There 4\n",
            "will 5\n",
            "an 4\n",
            "answer 4\n",
            "For 1\n",
            "though 1\n",
            "they 2\n",
            "may 1\n",
            "parted 1\n",
            "there 2\n",
            "still 2\n",
            "a 2\n",
            "chance 1\n",
            "that 2\n",
            "see 1\n",
            "night 1\n",
            "cloudy 1\n",
            "light 1\n",
            "shines 1\n",
            "on 1\n",
            "Shine 1\n",
            "until 1\n",
            "tomorrow 1\n",
            "wake 1\n",
            "up 1\n",
            "sound 1\n",
            "music 1\n",
            "yeah 2\n"
          ]
        }
      ]
    },
    {
      "cell_type": "code",
      "source": [
        "# The input() function prompts the user to enter the DNA string.\n",
        "print(\"Please enter the DNA string:\")\n",
        "dna_string = input()\n",
        "\n",
        "# We initialize four variables to count the occurrences of each nucleotide.\n",
        "count_A = 0\n",
        "count_C = 0\n",
        "count_G = 0\n",
        "count_T = 0\n",
        "\n",
        "# We iterate through each character in the input DNA string.\n",
        "for nucleotide in dna_string:\n",
        "    # We use an if-elif-else block to check which nucleotide the character is\n",
        "    # and increment the corresponding counter.\n",
        "    if nucleotide == 'A':\n",
        "        count_A += 1\n",
        "    elif nucleotide == 'C':\n",
        "        count_C += 1\n",
        "    elif nucleotide == 'G':\n",
        "        count_G += 1\n",
        "    elif nucleotide == 'T':\n",
        "        count_T += 1\n",
        "\n",
        "# Finally, we print the counts of A, C, G, and T, separated by spaces.\n",
        "print(count_A, count_C, count_G, count_T)"
      ],
      "metadata": {
        "colab": {
          "base_uri": "https://localhost:8080/"
        },
        "id": "QfEZS_nm_HDr",
        "outputId": "99fde609-898c-45ad-b0a7-29e46bfe1b17"
      },
      "execution_count": 15,
      "outputs": [
        {
          "output_type": "stream",
          "name": "stdout",
          "text": [
            "Please enter the DNA string:\n",
            "CCTCGCCGATTGATGCGGTCTGATGCTAGACAACTACCATCCTTCCCCGAATTTTCGTGCCTTCTGTCACAGTGCTGCAGCCGAAAACACCCGCGAGCCGCACAAGAGCGCGCAGGAGCATTTATTAAGAGCCATCAAAACGTCTGCACCGGGGGATAGGACTCGTATTTATCTGCGCCTATTGCCACCTCATCTAGCTTTCTACGTGGCTCCATCCGGAATTCCTGTCAGTCGTAACGGCCCCAGCTGCGAAAAGATGCGCAATGTCTTTAAGTAGAACAAGAGAAATAAACAGCACTGGGTTTTTGATTACCGTCACATCTGAAAGCGTAAGATTACCCTGGTTAGATGAACCCAGCAATACGAAGCCAATTGGTCGTCTCAGTTTATCAGTGAACCTAACTAGGAGACTTCTGGAAAGATTCGGGGTATCTTCAGGCCTTGCCAGAAACTCACACGACGGCACCGGTATACGCATAGCTATTGGTGCGCGGCCTACTGGCCCACGTCTCGAGATTGGTCGGCCGGGGTCGGCCGGTTGTGCTGGTATAGACAAGTCGGGTCCCCAGTCCATAAGGTGGTGTCGCAGCGTGGTTAGGCCTGTCAATTTAATTATGCCCAGTGTTGATGGCTACACCGGTGTGATGATGGGTGCCCCTCGGCCAAGGGCGCGCAGAATCCTCATACTACTAAGATGCTCTCCCGGACTGGGGATTGCGCGAGAAAAGCGGGGCTGCCGGCGGGCTTCTCTTCTTGACACTTTGTGGCTTGGAACAGTTCAACCAGCTCGTGGGTATGGCATAGGTTTAACCAGTGGATCC\n",
            "188 215 221 197\n"
          ]
        }
      ]
    },
    {
      "cell_type": "code",
      "source": [
        "# The input() function prompts the user to enter the DNA string.\n",
        "print(\"Please enter the DNA string:\")\n",
        "dna_string = input()\n",
        "\n",
        "# The .replace() method is an efficient way to substitute all occurrences\n",
        "# of a specific character within a string.\n",
        "# We replace all 'T' characters with 'U' characters.\n",
        "rna_string = dna_string.replace('T', 'U')\n",
        "\n",
        "# The resulting RNA string is then printed to the console.\n",
        "print(rna_string)"
      ],
      "metadata": {
        "colab": {
          "base_uri": "https://localhost:8080/"
        },
        "id": "gXkC_l1r_vBk",
        "outputId": "314ae6dd-1612-4e94-e527-06446e2e4539"
      },
      "execution_count": 16,
      "outputs": [
        {
          "output_type": "stream",
          "name": "stdout",
          "text": [
            "Please enter the DNA string:\n",
            "AGATGATGCGATGTAGGGATGCGGCCTTAGTAACAGCCCTTTGTTGATGACGAATTTGTGCACTGCCCGCTGAACCTCTGAACAGTACGACTATATTGCGTTGACCCACGCACACACACTCAGACACTTAATCATGGGCGCTTGACAGTACTAGCATCCCTCTGAGATTTTACGTTGAGGTCCTGGAAGTGCCGCGCGAGGTTTTAGCGAGTCAATGGAGTGTCAATGTGTGATAATGAATACGTGGTCATTTCTAGGGCACAGCCGGGTGCGGACCGGCGTTCTAATCCCGTATATCTCCGTGTGAACTGCCCATTTACATTCTAAAAGATCGGGTGAGCATATCACAGCAGTCAAAACTGCCGAACCACGACGATTGGCTCCGTTTTGCTGTGCAAACGAGGTCCGGCGGAGCCTCCAAATTGCATCACCGTTTGTATTAGCCAGTTACCGTACTCTGAACTCTGAAATGACCAACGCCCAAATTGGCGCTGCTCAGCCAACGTGTATGGGGCCGTATTCCACACGGGATCCCGTTGTAAATGGCTGGGCGCAACATTGGCTTGGCAAAATGGCACAGGTGATGAGAATCTAAAGGAACATTACGCTAAGCTGCAATAGATCACCTATCTAGTCGACTAGTCTGCAACACAAACGATGCAATGTATGCAGGTTCCGTAGATACCTGCCAAGTCTTAAGCAAACAACGGATACTCAGCGAAATGCAGACGGTGTCTGCAGAGCCGTCCGTCTCAATACTTCCTCTCTCTAAACACTATTGCCGAGTTTGTATCGCTAGGCATTGACCTGTCGATTAGTCCGATGTTTCGTGTAGTCGGTTATTTGATACGACCTGACCGCACAACCGTCGAGTATGTGTTTGGAAGTATAGTTACTTAAGATAATTCTTGTAAATAGATGCCT\n",
            "AGAUGAUGCGAUGUAGGGAUGCGGCCUUAGUAACAGCCCUUUGUUGAUGACGAAUUUGUGCACUGCCCGCUGAACCUCUGAACAGUACGACUAUAUUGCGUUGACCCACGCACACACACUCAGACACUUAAUCAUGGGCGCUUGACAGUACUAGCAUCCCUCUGAGAUUUUACGUUGAGGUCCUGGAAGUGCCGCGCGAGGUUUUAGCGAGUCAAUGGAGUGUCAAUGUGUGAUAAUGAAUACGUGGUCAUUUCUAGGGCACAGCCGGGUGCGGACCGGCGUUCUAAUCCCGUAUAUCUCCGUGUGAACUGCCCAUUUACAUUCUAAAAGAUCGGGUGAGCAUAUCACAGCAGUCAAAACUGCCGAACCACGACGAUUGGCUCCGUUUUGCUGUGCAAACGAGGUCCGGCGGAGCCUCCAAAUUGCAUCACCGUUUGUAUUAGCCAGUUACCGUACUCUGAACUCUGAAAUGACCAACGCCCAAAUUGGCGCUGCUCAGCCAACGUGUAUGGGGCCGUAUUCCACACGGGAUCCCGUUGUAAAUGGCUGGGCGCAACAUUGGCUUGGCAAAAUGGCACAGGUGAUGAGAAUCUAAAGGAACAUUACGCUAAGCUGCAAUAGAUCACCUAUCUAGUCGACUAGUCUGCAACACAAACGAUGCAAUGUAUGCAGGUUCCGUAGAUACCUGCCAAGUCUUAAGCAAACAACGGAUACUCAGCGAAAUGCAGACGGUGUCUGCAGAGCCGUCCGUCUCAAUACUUCCUCUCUCUAAACACUAUUGCCGAGUUUGUAUCGCUAGGCAUUGACCUGUCGAUUAGUCCGAUGUUUCGUGUAGUCGGUUAUUUGAUACGACCUGACCGCACAACCGUCGAGUAUGUGUUUGGAAGUAUAGUUACUUAAGAUAAUUCUUGUAAAUAGAUGCCU\n"
          ]
        }
      ]
    },
    {
      "cell_type": "code",
      "source": [
        "# The RNA codon table is represented as a dictionary.\n",
        "# It maps each 3-nucleotide codon to its corresponding amino acid.\n",
        "rna_codon_table = {\n",
        "    'AUA': 'I', 'AUC': 'I', 'AUU': 'I', 'AUG': 'M',\n",
        "    'ACA': 'T', 'ACC': 'T', 'ACG': 'T', 'ACU': 'T',\n",
        "    'AAC': 'N', 'AAU': 'N', 'AAA': 'K', 'AAG': 'K',\n",
        "    'AGC': 'S', 'AGU': 'S', 'AGA': 'R', 'AGG': 'R',\n",
        "    'CUA': 'L', 'CUC': 'L', 'CUG': 'L', 'CUU': 'L',\n",
        "    'CCA': 'P', 'CCC': 'P', 'CCG': 'P', 'CCU': 'P',\n",
        "    'CAC': 'H', 'CAU': 'H', 'CAA': 'Q', 'CAG': 'Q',\n",
        "    'CGA': 'R', 'CGC': 'R', 'CGG': 'R', 'CGU': 'R',\n",
        "    'GUA': 'V', 'GUC': 'V', 'GUG': 'V', 'GUU': 'V',\n",
        "    'GCA': 'A', 'GCC': 'A', 'GCG': 'A', 'GCU': 'A',\n",
        "    'GAC': 'D', 'GAU': 'D', 'GAA': 'E', 'GAG': 'E',\n",
        "    'GGA': 'G', 'GGC': 'G', 'GGG': 'G', 'GGU': 'G',\n",
        "    'UCA': 'S', 'UCC': 'S', 'UCG': 'S', 'UCU': 'S',\n",
        "    'UUC': 'F', 'UUU': 'F', 'UUA': 'L', 'UUG': 'L',\n",
        "    'UAC': 'Y', 'UAU': 'Y', 'UAA': 'Stop', 'UAG': 'Stop',\n",
        "    'UGC': 'C', 'UGU': 'C', 'UGA': 'Stop', 'UGG': 'W',\n",
        "}\n",
        "\n",
        "# Prompt the user to enter the RNA string.\n",
        "print(\"Please enter the RNA string to translate:\")\n",
        "rna_string = input()\n",
        "\n",
        "# A list is used to build the protein sequence.\n",
        "protein_sequence = []\n",
        "\n",
        "# Iterate through the RNA string in steps of 3 to process each codon.\n",
        "for i in range(0, len(rna_string), 3):\n",
        "    codon = rna_string[i:i+3]\n",
        "    amino_acid = rna_codon_table.get(codon)\n",
        "\n",
        "    # Check for a stop codon to end the translation.\n",
        "    if amino_acid == 'Stop':\n",
        "        break\n",
        "\n",
        "    # Append the translated amino acid to the list.\n",
        "    protein_sequence.append(amino_acid)\n",
        "\n",
        "# Join the list of amino acids into a single protein string and print the result.\n",
        "protein_string = \"\".join(protein_sequence)\n",
        "print(protein_string)"
      ],
      "metadata": {
        "colab": {
          "base_uri": "https://localhost:8080/"
        },
        "id": "vkfX8gELAhGD",
        "outputId": "20321e61-26bf-486a-8077-0180d75490a6"
      },
      "execution_count": 17,
      "outputs": [
        {
          "output_type": "stream",
          "name": "stdout",
          "text": [
            "Please enter the RNA string to translate:\n",
            "AUGUAUUCUGUCCUUCUAGUCCUGUUGGGUGCCUCAUAUAGCCAGGUUUCCAAAAUUCAUAAGGUGAGCAGCAUCUGGUACCUCCGAUCCGGUCUACCGGAGCUUCGAAGCUUAAUCACUCGACUUGUCAACCCCGACUGUCACUCCGGCGCUGAACAACAGGCCUACUCGCAGAUUAGCCCGAGCUGGCUUAGAAUAGACCCAUCUUCAGCUUGCGCUUUUUAUAACGCUGCUGCGACACGUGAACGGGCGAGCCAUAACACUCAAGGCGCGCCGUACGCAGAGACUGACAGCAGUCUUUGGAUGAGAUUCUCACACAGUCCCUUGUCUCCAUGCUCUUCCCAAGGGCGAAUAAUGUCCCAUGUCGUUGGUGACUUACCUUUAAUGAGACAGGCUUCAAGCAGUGCACCAUCAGAACUAUACCAACAUUAUAUGAUACCAGUUAGUGGGAAUGUGUCCGCUGCCCAUACUGGAUGCUUCGUUCAGAACGUCCCCACGCCUACGGCUGGAAACACUGACCGUUCGAUGACACCUCUUCUAGCAAAGUUCGGGCAACGCCUUAUCAAGGGGUAUCCGUAUCGCUUGCAGACUGGUCAAUUCCCCUCCCUACGGAUAUAUUUCACAUCAGCCGGCGAACGACAAGGACUGUGGGAAAACCUCGCCACAUUGAUUUCUACACAACCAAAAUUUAAGUCAAAGUCCGGCCUACGAAUUUUGGGCGUACGCGAAACUUCGGCUGAUUGCACUCGUGAUGGAUUAGAUAGUCACUUAUAUGUCAGCUGUAUGAGUUGCCUAACACUUCUACCCGCUUUUUCCCUGGAUUUCCUGAACGCCGGCUUUUCAUGUUGGGCUGCUCGCUUUCAGGUUCACCCCGCGCCGCUCUAUAGAUCAAACAAGUCUGCCGUUGGUGCGAUAACUCACAUUGGGAAGUAUGGUGCACACCCUACGAUAGUACUCACGGAACAGAGUAUUCCGCACCACAAUUCUGUUCUUAAUGCUGGCCCAUGCAUAAAAGCAGUGUUCGAGGUGUCUCACGGACGCGUCUGUACGUUCUGGCCUCAGCCUGGCGAAUGUCGAGACUUUCACACAGUCGCGUCCGCUGAUUUUAACUCGGGGUCGAGGUCAAGCUUGCACACAUUUGAUACGGUUCUUCUGAAUUGGCGUGACGGUACACUAUUGAGACCGAAUGUAUUAUACUCAACUUUGUACACCAUGACUACGGCAUCCCACGGUAUUGACCAAUUUGUAUUCGAUCUUGGGCCUAACGUUGUCCCCUCUAGGUGUUUGGGUAAUGUUUCCGUGAACAUGGGGGGUGCGGAUCGGCUUAAUUGGUAUAAAGCGCGCGACUCAAAUAACCCCGCUGCUCAACUCAUAAUAGUUCACCCUCUACUAACCCAUGAAAACUUCGUUUCUUACAAGACCGUUUGUCUGAAGGUACUACUAGCAGGUAGAGUCUGGUCACUUAGUUACAAUAGUGAGUCUAAGGGAGUCGGGUCCCCGUUCAGAUCUGGACACUAUGAUGUUCGCGCAUGUCCCCGACCUUAUGCAGAUGUUGGUAUAGUAUCGGUUGGUCGAACAAUCUCAAUAAACGCCCCGGGCGAUAAAGAACUCCCGCACAACAGUCCGCCUCAGGAAGCCGUACAUGAUCCAAGCUUGCGUGUGAAACCAUAUAUGGAAUUUACGUGCUCGUCCUUAAAGAAAAAAGCGAUGUGCUUAACAAAACUAGGUGCAACUCCGCUAAUGCGGUGCGAGCUUCAACCCGGAGCUUGGAGGUCGGGAGUCUUGUUUCGUAUUUCUGCUAAAUCCAGAACCACUAUGCUUCUAGAGGUUACAGAAGCUAGUAUGCCGGCUUCCAGCGGCCCAACUUCUCGGUCGUAUUGUAAAACGGAUGAUAUUGUCCAUUUAGCGUUGCCAACACCACUGAGCCUGCUACUCGAUUGGGGAACAGGAACACUACUAUUUCUCGCGAAAUGUACGGGCCUCAACCUCCCAAAGCCUGGUACUAUGGUCUGCCUACAGCGCGGUGGAGGGCUUAUGUCCGGCCUGGGCGCUCUAGGCCAGUCGAUUCGCUGGCAAGGGAAUUCUGCUGAAAUCCGAUUCGAAGCCGCUAAUAUGUGUAAUACGCUACAGCAUGGAAUUGGGUCUGUCACGCUUCAUGGACAACCAGCUCUCCAAGAAAACCUUUACACGCAAACCUCCGACUCCUUGUAUAGAACGACAAAGGGGCUUUACCAAAAAUUUCGAUGGUCUUUGUACCGAAUAUUCUCCAGUAGAGUUCGCUUCAUCGCGCUACGCCAACUGCAUUAUCGCCAGUCCGUACGCGACAUACUAGAAGCAAGCGGAACGUGCCCGAGUUGGGCAAACCCGUAUCUUCCGGAACGGUUUAUUUGCAACUUCCAAUGUAAGUUCGUUACGCACCUCUCUUGUACAGGUACUUCUCCAGGGACCCCGCGGCAACAGCGUAACGUCGGCUUGACGCGCAACACCAAAUACGUUUGGCUGGGGCAAUAUGAAAUGCCCACGAUCAUUCAGCCGCUACGCUUUGAUACUAAGCAUCGACGGCCCACCCAAGCUUAUCAGCCGCCUGGCUCAUCUGGAAGGGAGACUUUGCCUGUUGCUCAGUCCGCUGCCGCAAUGCUAUCGCAGUGUGAUAGAAGGACGAUGCAUUACGAACACCAACGACUCCUUCCGAGUGUGGGAGGCCCAGCUAACGUCGGAAAAUGUGGCUUCCGCCGCACGGAUGCAGGAACCGACGGUGGCUGUUGUAUGUCGGGUCGAGUCCAGCACCUGCCUCUAACAUUGGAGGCUAUGCCCAGAGGUUGGGUACUGCGCCGUGUGCAACGGGGCGCGAGGGUAUCGUAUAUUACGAACUUUACCAUGGUGCAAGUCUGCUCAUGCCUGAGCACUCGCAAGAGCAAAAGGUUAAAGGUUGAGCAUGCUUCACCGGUGAUAGAGAGAGGGCUUGAAAACGAAUCGCAAGUUCCCCGGCUGGAGUCUUCACCGCUGAAAAGAGAUAGGACAGCCAUGAAGAUGAGUCACUCCCUCUCGUGUGAGGCUACCCUGGCGACCGAAUGUCUGCUUAUCCCGAUGGACCCGUCCGCAGUUGGCCGAGCCAUUGUCGUGCUAAGCAAACACAGAGUUCCGGGUUUAGAUGAACACGCUGCUUACUUUCUUGCGCUGUGCGCGACGGACGCAGAAUUAUGCCAGAAUCCGCACCGAUCUUGUACGGGUCGUGAAGGGCUUUCUUGCAACGUAACGUAUUUCUUCACCACCCGUUUCUGUCAUGAACAGUUGGGACACGCUGCAGGGUAUGCGUCAGUUGACUCAUGGCAACGAAUCGGGGGCGUUUCUCCUAGUUUUGUCAUCUCGAUUGUACAUCGGAUGACGGAUCUAGCACAGGACAUGCGAUUUACAGGGACUAAGUUGUUUCCAGAGAUACGAGUGAAGGUUUCCGUCGGACGGUUCGUCAUGAGACGUGUUGCUUAUGGUAAAAUAGUCUUCCCGCGUUCGUACGCCAUCGUCGACAGUCGUUCGUCAAAGGUCUGCUGCCUGUCUGCACUUACCGUGUAUACUCUGCGACGUCUCGGGCAGUGUCACCGUGCGUCUCCUAGGGGUGCGUUCCAAACAAAACACCAGAAGACGUCUCAGACCUGUGUGGCUUUCUUAAUAGUACGCUAUAGCGAUUACUCUGCCUCAAUAGUAUCCGCCCAGCUAUCGCUUUUUAUCGGUAACCGAGAAUUCUACGUAGUUGGUGAAACCAACCUAGGUUUUCUGGUAAAGUGCCCAUCGCAAGUCGUCGAUACUAUAAUAAUACAUUGCGUGCAGGGCGGUGCACAUUUACACUCCAAGCGGAAGCGAGGGUCUACAUGGAGGUAUAAACAGAACCAAAUUAAAUUCGCCAAGCGCGCGUGUUGCCAGUCAUGUGGCAAAGAGACAUGCUCGACUGUGCUAAAUGAACGAACGGUCAGAGCGCCAUCUCGCUUACUCGUUUCCGACAACUGGAAAUCUGCCUUACGCAAUAGAUCUCGGCUUGGGACGAUCUAUCGAGUAUGUAGCAUCUAUGCACGGACUGAUAAUCCGACAUGUACUCAUCUGAGCAGAUGUAAAACUCAGAGUAGCGAGUCCGGCAAAAAUCGACCCCGUUACGGCUUUCUAGUUGUGAUGAAUAAGGUUCGCGUGACCUGUAGCCCAGACGUCUCCGAGAAUCAUAGGGUCUUCAACUCAGCUAAACUGCCAAGCCUCAAGUGUGCGGGACAAGAGCCCUUGAAGCAAGCAUCGUACCUCCCAAAAUGGCCCAAUUCUCAGGGCAAGUGGUACGAUGGCUGGCUAGUGAGGGCUAGUAGCUCCAAACGUAGUUGGAAUUGGAACGGGCUUUCACCCAUGUCCGUGGGCCUUUCGUCGAAGAACCUCAUCGUCUCUGUGACGCGGUUCUUACUCCAGCAUACGGUACGUCCCUUCAACAUGGGAUUUUCAAUACGGGGCUUCCGAGUCAGAUCGACCAUGGCAAUUGUCCGUAACAUCCGCUUGGCCGCAGUACUUUCCAGUGCCUAUGUUUCGUAUACAGGAGCUAGCGGGCAUUCCGCCUCUUUAAUACCAGUAUACGCUGACGACCUACCAUCCCGCAGGGAGUGUCCUCAUAGUGUAACAACCUACCAAAGAAGUUCACUGCCACCCAAUUGUGGGAGACCAAAGCGGAUACCUAUUCACCUUACCUACAGCCCGCUCCCUGGGAUUAAUCGCAGACUAUCGUGGGCUCCCUUGAGGGCUGCUAUGCCCCCUCGGUCAGUUAAAACCGAUGGUUCAAGACUGGGAAACCCCGGCCCUAUACUUCAUCCCUUCAGCGGUCAGAUGCACGGUCCGAACCUUCUACAUCUCUACUUCAUCGAUCACGAGCGUCUUGCGAGAUGUCGUAGCCUGAGACAGUUAUCAGCUCUGUGCAGUCGGAUCAAAAAUUUUCGUCGGCCGGCAAUUAGUUCUCCUUGGAAGAGUGAACAAUGUGCGUCAUGCUGUGCCAUUUAUACUCGCCAUACAGGUAGUGACGUGCGAGCUCACGAACUGAUCAACUAUGAGCUCCAACCAUGUUCACAAGCAGCGUUCGGGCCUACCGCAUAUGAGCACCAAAGGUCCACUAAGUAUCCGUUUGAGAGUGGCGUCUUCGGUUGUCGUUCUGCACAUAGCACUUCUGGGAGCGAUUUUCAGCUGAAAUGUCGUGGGGCAACUGCGCCAGUUCACAUCUAUCGGACCUAUCUUAAGCCCUAUCGAGGACCGCACAGGGGCAGUAGACCUAAACAUUGCCAAUUGGAGUGUGAAUAUCUUCACCUCAAUUGGGCUGGGGCUGUGUAUCGCUUACUGCAUGGCCGGAUAGGAAAAAAUGCCGUAAAUAUCAACCUUAACCGAAUCCUGGCGUGUAAACUGAUGGGGUUCAAGGAGGCACAGCUCUCAUUCCUUAGCUUAUGUCGGUCCCGACGAAAACGACCGUCCACCAACCACACGCGACUACAAGUUUCGGUCGGAUUGACCGGCAAUUGCGGUUACCAAUGCCUAUUGCCACAACAUAUAAAUCUACGCACAAAUAAGGUGAGCCGGGCUAAGAUAAGAGACAAAUGGCUUUAUUGCAUUUGGCCGUUUAAACACCAAAAAUGGCGAGGCAACGGGACUGCAUGUCGUGAUAGUAGAACUGCACUAUUACGAAAGUCCGCCACACCCCGGGCACUUCCACCUUCCCAGCACGUCCAAGAGAUCGCUCAAGUAUCCAUGCAGCGGGAUAAGUCAUGGAUAGGGCUGGAAAGAUUGCGGGAUAAGGCAAGCGCGCGAAAGACUGUGAGGUUGAAACUACAUUCUGAGAUUAAUGCACAACUAUGGGCCAAGACCUGUGGUAAACGAGUGAAGCCAACAGGUUCUAGAGCGCGUCUUGUCCACUGCGCCGCUCGAGGCGCAUCAGUGCCACGGAUCAUGCAAACCGGUCAAUUGAAGCACAGUACGGAAACAUACACAGCUCCUAAAGUCACUACUAGUAGACCCUUGCGAGGCUCUCGCGUACUUACCUCAUUCCGAUCAGAACUUAGUGCUACACUAGCCACCCCUAAAACCGCAAAUAACGCUAAGCGAUUCCCAUGCCCAGGGAUCGACCAUAUUGCCUUACGUUGCUACAACUUGACCAACGCGGGGCAACUUACUUCCGCAGAGACGCGCACUCGCGCCCUUGUCAGAGUUCGCCUUUGCUACGUUGUACUGUUCCCGGGUAGGGGAAGAACAACGAGAGUCUCCCAAGAUAAAAGCGACUCUUACGAUGGCCCUGUAGCACCCGAGCGGCGUAGAAGACGGCACCCGCAUACGCCCCAAUCUGCAUCUCCUAAGCAACACGCCUCACAUUCUCCUAGCAUCCGCAUCCAAGGAAGGAUGAUUUCGGUAAUGCGAGAAAGUUUCGGCUCUUGCAAGGGGGAUCGCGUUUCAAGUGGAUACUUAGACAUUCCCACCUGGGUCCAGCCCACUAGCAUUCUGCACCAUUUGCGUCUUGACUUCGGCCAUCCCGACUUAGACCCCUGCACGGGGCAAAAGCGGAUGAUGUCCCUAGCAGCCUCUAAAGCGUGCAGCAAGAAAACGGCGUUCCUACGGUCGGGUGGAUAUCCCGGGACCCGCCGGCAUGUGGGGUCGCUCCAGUAUAAGGAGAAUUCUCCCUGUCGAUACCGCAAUUCUUACGCACUGACGGAGCACGAACAUUCGCGUUACAAGGUAGUCCGGACUAAUUACGGCAGCUAUGAGCUCCAGACAAGGGGUGCUCUCACACCACAUCCGGGUGGAAUUAUAUGCCGCACAACAAGCCCCUUUUGUGUGACCCACUACAAGUUUUACUGGUCACAGCGCGCCCGGGCUACGGGCAAUUCUAUAUGUAAAGUAGGUGCUAUCUCCUAUCCAGCACGCGGUCGUAUCCGCUUGCUGUGUCCAAUCCUUAAAAGAAUAGUGAGGCCAAAAGCGGAUACACUAAGGGGAUGGCCGUUUAUCCUUCUGGACAUUUUGAUCCCCUCGCCUGCGUCCAGCAAUAUUCUAUCCACUUUUGCUUUAUGCCACUAUACAAGUCCCGGCGCUAAUGUUGCCAGUUUCAAGGAUUCUGUGGUCCCAUGGCUCAAGUCGGUAGGGUUGGCAAGGUUCGUGUGGCCUCGGCUAAUUCGCCACUUACACGAAUGUAUUUUGAUUGGUUGUAUCCUGCAACUCAAAGGGUGCAGUCGUGGGGUUAUAUGUGUCGAGGAGAGCCGACUCCAUUCCACAGUCAGAAUGACGAAGCAUCCUCAGUUCAUUUGGUCGACGCGACUUGCGAUAUUUUAUAAUGGGGCUACUCUUGGUAACAUGAACUCUGUUGAUUUCGCGAUCUACGCGUUAGGCGAAAUGGGUUUGCGAGCUAUUUCUCCCCUUGAAGUCUUUCAGGCUGUACCCUACCACCUGGCCCAUUCGCAACCUAAGCAUUUGCAUAUCCCCGCCUAUGGGAAGUUAUCAAUCUAUGCUAUGGAUGCCGGUUUUUCAUGGAGGCAUGGCUCUAGGCUCCUUUUUAAUGGGUUUCGAGGCGUCGCACGGAUCGAAGACACUCCGAGCUCGAAGACUGCUCUGGUUUCGCUCUGGAAUAGUCCCGCAGGAGCAUGUACAUGUCAAUUUCCAGUUGUGAGGUUAGGCGUGAGUCAUCGGUUAGUUCCCGAAUAUAUAAUGCUUACGUUGACGGCCUCCACCUUGCCACGGGUCAUUGGUCUUUGCGAAAUUAUCGCCGUCCACUACUAUAGGUUCGCUGACAAAACUACACUAUCUUCGAAUCAUGUACACCGGCGGGGUGGUACAGCGAAGCUUCUACUGGGUAAACUCUUAGAGUGCCCAUCGAAGUUAUUCUCGAGAGGGCCGUUAGUUGGAAUUUUUGUCUGCGUUCCGCCGCCUGCAUUGUUGCCCCCCAAUCCGGGUGCGGAAUCGGUAGCGGAACGUGCCCUUCUGGCGUCCCCAGCUUCUGCCCGAGGAUGCGUGACGACCGCUCCGGUGUCUGUGAGGGCUCAACUCACCUACCCGAGCUCUAGUUACAGAGUCAGAUGUGGAUCUACCGUGAGCUUUCCUGGGAGGGUUUUCGGGAUAAAUAUAGUUGCCGAUGGCCCCAAAAUGCCAUACUUCAAUAAAGGGUCUCCCCCCGAGACCCUAGGACUCCAGUACGAAUGGGCUAGUGCAGUGACACCAGGUAACUCCGGAGUCCGAAAAUGGAGACCGGGCAAUCAAUUUGUUCGUCGCAGCAGUUGGUGGGAUAGACAUUGUUCCCAACUAACACUCUUUUUACUUGGAUGGUCCGGAGACCAACGGGCGAUUCAUAACGUUUCGCAUCUGGCGGGGACUGACCCCGUUUUGCGAUAUACGGAGCCAUCUCUCAUGAUAGCGACUGGAUCCGGAGAAACCUCUAUCGGCGGCUCAGUCCUUUACCUGGCCCAUGUGCGUGUGUUUCCAUCCAGAUAUGUUCUUAACGCGAGGUGUAAGGCGCAAUUGGAACACAAAAAGAGAACCGACAUGUACCACACGAGAUCACCCGUCAUGAAUCCAUCGGUCGGCUCGGCGAAUGUAGUAAGAUCUCGCAAAUUCUAUGGCACAAGCAAUCAUGAUGGGAGAGGAGACUGGGCCGCGACAUUUGAAUAUGAUUGUCCCGGCCGUCCUGAACAAGGUGACGGACAACCUCAGCCGACGGCCUAUAUCUUGCCCCGCCCAACCAGGGGUAUCCAUAAACCGGGAGCGAGUGUCGCUAUCGAUGAAAUAAGUGGAUUUGCGCCUUGGUCUGCGAGCAGAUUUUGUGAUCUGCUGUGGGAGGGAAGUCCAUUACCGUUACUAUAUACGUUCACACCUGACCACAUCCGUAUCAUUUCGAACUUUCCAUUUUACAGUGCAAGUAUGGGUGCAAAGUCCCGUCGAAACGAGCGUCCCAGCCUUCCCUCCUGCGAAGAGGGGUUAUUCCUCUCAGUACCAUCCGUAGACUUGUUCCCCCACGAACUUCGAUGGACCCCUUUAUUGUGGAUUAAGGCAAGUUUCCAGUGGUGUCUUCGUCUUGCUUUUUCAUUUUCCUUGUGUUAUCCACGGGUUGGACACGCUCCCUUGAGGGGUCCCGAAGGGAGAGAGUUUCGACUCCCCAAGGAUCAUGGGGUUCAUUCUCCGUUCCAUCUAUUAGGUGAAUGGACGUCAGCGUGCGCCAUCCUCGCCGCGAGGAACAUUAGGGACUGGCGUCCCCAGCAUUCAACCUCACUCAUACACAUAAGGGGUGCGAGACUUAAAUUACGCGAGACGCGCCCUCUGUGUACAAAUCCUUCUCGCCCUCUGACCUAUAAUAUCGCAUCCGCCAUCCCGGAGCCCUUGGCCUCGAGUAACCAUAACGAGUUCAGUAAUCUAAUUCGUCAAACGUACGGCGGUAGAGAGUCGCACGAGUUCAAACGGCAAACAGAGCACAAAGAACUAGUUCUGCGAAGUCCCAUUUCUUACGCUGUACGUUCACUCAUGGUAGACACAACCGCUUUCUGUUAUCACGCUCUUCCGGGGUGUACUGACGCCACAAUUUGA\n",
            "MYSVLLVLLGASYSQVSKIHKVSSIWYLRSGLPELRSLITRLVNPDCHSGAEQQAYSQISPSWLRIDPSSACAFYNAAATRERASHNTQGAPYAETDSSLWMRFSHSPLSPCSSQGRIMSHVVGDLPLMRQASSSAPSELYQHYMIPVSGNVSAAHTGCFVQNVPTPTAGNTDRSMTPLLAKFGQRLIKGYPYRLQTGQFPSLRIYFTSAGERQGLWENLATLISTQPKFKSKSGLRILGVRETSADCTRDGLDSHLYVSCMSCLTLLPAFSLDFLNAGFSCWAARFQVHPAPLYRSNKSAVGAITHIGKYGAHPTIVLTEQSIPHHNSVLNAGPCIKAVFEVSHGRVCTFWPQPGECRDFHTVASADFNSGSRSSLHTFDTVLLNWRDGTLLRPNVLYSTLYTMTTASHGIDQFVFDLGPNVVPSRCLGNVSVNMGGADRLNWYKARDSNNPAAQLIIVHPLLTHENFVSYKTVCLKVLLAGRVWSLSYNSESKGVGSPFRSGHYDVRACPRPYADVGIVSVGRTISINAPGDKELPHNSPPQEAVHDPSLRVKPYMEFTCSSLKKKAMCLTKLGATPLMRCELQPGAWRSGVLFRISAKSRTTMLLEVTEASMPASSGPTSRSYCKTDDIVHLALPTPLSLLLDWGTGTLLFLAKCTGLNLPKPGTMVCLQRGGGLMSGLGALGQSIRWQGNSAEIRFEAANMCNTLQHGIGSVTLHGQPALQENLYTQTSDSLYRTTKGLYQKFRWSLYRIFSSRVRFIALRQLHYRQSVRDILEASGTCPSWANPYLPERFICNFQCKFVTHLSCTGTSPGTPRQQRNVGLTRNTKYVWLGQYEMPTIIQPLRFDTKHRRPTQAYQPPGSSGRETLPVAQSAAAMLSQCDRRTMHYEHQRLLPSVGGPANVGKCGFRRTDAGTDGGCCMSGRVQHLPLTLEAMPRGWVLRRVQRGARVSYITNFTMVQVCSCLSTRKSKRLKVEHASPVIERGLENESQVPRLESSPLKRDRTAMKMSHSLSCEATLATECLLIPMDPSAVGRAIVVLSKHRVPGLDEHAAYFLALCATDAELCQNPHRSCTGREGLSCNVTYFFTTRFCHEQLGHAAGYASVDSWQRIGGVSPSFVISIVHRMTDLAQDMRFTGTKLFPEIRVKVSVGRFVMRRVAYGKIVFPRSYAIVDSRSSKVCCLSALTVYTLRRLGQCHRASPRGAFQTKHQKTSQTCVAFLIVRYSDYSASIVSAQLSLFIGNREFYVVGETNLGFLVKCPSQVVDTIIIHCVQGGAHLHSKRKRGSTWRYKQNQIKFAKRACCQSCGKETCSTVLNERTVRAPSRLLVSDNWKSALRNRSRLGTIYRVCSIYARTDNPTCTHLSRCKTQSSESGKNRPRYGFLVVMNKVRVTCSPDVSENHRVFNSAKLPSLKCAGQEPLKQASYLPKWPNSQGKWYDGWLVRASSSKRSWNWNGLSPMSVGLSSKNLIVSVTRFLLQHTVRPFNMGFSIRGFRVRSTMAIVRNIRLAAVLSSAYVSYTGASGHSASLIPVYADDLPSRRECPHSVTTYQRSSLPPNCGRPKRIPIHLTYSPLPGINRRLSWAPLRAAMPPRSVKTDGSRLGNPGPILHPFSGQMHGPNLLHLYFIDHERLARCRSLRQLSALCSRIKNFRRPAISSPWKSEQCASCCAIYTRHTGSDVRAHELINYELQPCSQAAFGPTAYEHQRSTKYPFESGVFGCRSAHSTSGSDFQLKCRGATAPVHIYRTYLKPYRGPHRGSRPKHCQLECEYLHLNWAGAVYRLLHGRIGKNAVNINLNRILACKLMGFKEAQLSFLSLCRSRRKRPSTNHTRLQVSVGLTGNCGYQCLLPQHINLRTNKVSRAKIRDKWLYCIWPFKHQKWRGNGTACRDSRTALLRKSATPRALPPSQHVQEIAQVSMQRDKSWIGLERLRDKASARKTVRLKLHSEINAQLWAKTCGKRVKPTGSRARLVHCAARGASVPRIMQTGQLKHSTETYTAPKVTTSRPLRGSRVLTSFRSELSATLATPKTANNAKRFPCPGIDHIALRCYNLTNAGQLTSAETRTRALVRVRLCYVVLFPGRGRTTRVSQDKSDSYDGPVAPERRRRRHPHTPQSASPKQHASHSPSIRIQGRMISVMRESFGSCKGDRVSSGYLDIPTWVQPTSILHHLRLDFGHPDLDPCTGQKRMMSLAASKACSKKTAFLRSGGYPGTRRHVGSLQYKENSPCRYRNSYALTEHEHSRYKVVRTNYGSYELQTRGALTPHPGGIICRTTSPFCVTHYKFYWSQRARATGNSICKVGAISYPARGRIRLLCPILKRIVRPKADTLRGWPFILLDILIPSPASSNILSTFALCHYTSPGANVASFKDSVVPWLKSVGLARFVWPRLIRHLHECILIGCILQLKGCSRGVICVEESRLHSTVRMTKHPQFIWSTRLAIFYNGATLGNMNSVDFAIYALGEMGLRAISPLEVFQAVPYHLAHSQPKHLHIPAYGKLSIYAMDAGFSWRHGSRLLFNGFRGVARIEDTPSSKTALVSLWNSPAGACTCQFPVVRLGVSHRLVPEYIMLTLTASTLPRVIGLCEIIAVHYYRFADKTTLSSNHVHRRGGTAKLLLGKLLECPSKLFSRGPLVGIFVCVPPPALLPPNPGAESVAERALLASPASARGCVTTAPVSVRAQLTYPSSSYRVRCGSTVSFPGRVFGINIVADGPKMPYFNKGSPPETLGLQYEWASAVTPGNSGVRKWRPGNQFVRRSSWWDRHCSQLTLFLLGWSGDQRAIHNVSHLAGTDPVLRYTEPSLMIATGSGETSIGGSVLYLAHVRVFPSRYVLNARCKAQLEHKKRTDMYHTRSPVMNPSVGSANVVRSRKFYGTSNHDGRGDWAATFEYDCPGRPEQGDGQPQPTAYILPRPTRGIHKPGASVAIDEISGFAPWSASRFCDLLWEGSPLPLLYTFTPDHIRIISNFPFYSASMGAKSRRNERPSLPSCEEGLFLSVPSVDLFPHELRWTPLLWIKASFQWCLRLAFSFSLCYPRVGHAPLRGPEGREFRLPKDHGVHSPFHLLGEWTSACAILAARNIRDWRPQHSTSLIHIRGARLKLRETRPLCTNPSRPLTYNIASAIPEPLASSNHNEFSNLIRQTYGGRESHEFKRQTEHKELVLRSPISYAVRSLMVDTTAFCYHALPGCTDATI\n"
          ]
        }
      ]
    },
    {
      "cell_type": "code",
      "source": [
        "# The RNA codon table is stored in a dictionary.\n",
        "# Each key is a 3-nucleotide codon, and the value is the corresponding amino acid.\n",
        "rna_codon_table = {\n",
        "    'AUA': 'I', 'AUC': 'I', 'AUU': 'I', 'AUG': 'M',\n",
        "    'ACA': 'T', 'ACC': 'T', 'ACG': 'T', 'ACU': 'T',\n",
        "    'AAC': 'N', 'AAU': 'N', 'AAA': 'K', 'AAG': 'K',\n",
        "    'AGC': 'S', 'AGU': 'S', 'AGA': 'R', 'AGG': 'R',\n",
        "    'CUA': 'L', 'CUC': 'L', 'CUG': 'L', 'CUU': 'L',\n",
        "    'CCA': 'P', 'CCC': 'P', 'CCG': 'P', 'CCU': 'P',\n",
        "    'CAC': 'H', 'CAU': 'H', 'CAA': 'Q', 'CAG': 'Q',\n",
        "    'CGA': 'R', 'CGC': 'R', 'CGG': 'R', 'CGU': 'R',\n",
        "    'GUA': 'V', 'GUC': 'V', 'GUG': 'V', 'GUU': 'V',\n",
        "    'GCA': 'A', 'GCC': 'A', 'GCG': 'A', 'GCU': 'A',\n",
        "    'GAC': 'D', 'GAU': 'D', 'GAA': 'E', 'GAG': 'E',\n",
        "    'GGA': 'G', 'GGC': 'G', 'GGG': 'G', 'GGU': 'G',\n",
        "    'UCA': 'S', 'UCC': 'S', 'UCG': 'S', 'UCU': 'S',\n",
        "    'UUC': 'F', 'UUU': 'F', 'UUA': 'L', 'UUG': 'L',\n",
        "    'UAC': 'Y', 'UAU': 'Y', 'UAA': 'Stop', 'UAG': 'Stop',\n",
        "    'UGC': 'C', 'UGU': 'C', 'UGA': 'Stop', 'UGG': 'W',\n",
        "}\n",
        "\n",
        "# The 'with' statement is used for robust file handling. It ensures the file\n",
        "# is properly closed after the block, even if an error occurs.\n",
        "# First, open the input file and read the RNA string.\n",
        "with open('/content/rosalind_prot (1).txt', 'r') as infile:\n",
        "    rna_string = infile.read().strip()\n",
        "\n",
        "# Initialize an empty list to store the translated amino acids.\n",
        "protein_sequence = []\n",
        "\n",
        "# Loop through the RNA string in steps of 3 to read each codon.\n",
        "for i in range(0, len(rna_string), 3):\n",
        "    codon = rna_string[i:i+3]\n",
        "    amino_acid = rna_codon_table.get(codon)\n",
        "\n",
        "    # Stop the translation if a 'Stop' codon is found.\n",
        "    if amino_acid == 'Stop':\n",
        "        break\n",
        "\n",
        "    # Append the translated amino acid to the list.\n",
        "    protein_sequence.append(amino_acid)\n",
        "\n",
        "# Join the list of amino acids into a single string.\n",
        "protein_string = \"\".join(protein_sequence)\n",
        "\n",
        "# Now, open the output file in write mode ('w') and write the result.\n",
        "with open('output2.txt', 'w') as outfile:\n",
        "    outfile.write(protein_string)\n",
        "\n",
        "print(\"Translation complete. The protein string has been written to 'output2.txt'.\")"
      ],
      "metadata": {
        "colab": {
          "base_uri": "https://localhost:8080/"
        },
        "id": "g8DdC4lbBD66",
        "outputId": "5e238a45-d9d7-40d7-b484-9fe2b6f69b37"
      },
      "execution_count": 19,
      "outputs": [
        {
          "output_type": "stream",
          "name": "stdout",
          "text": [
            "Translation complete. The protein string has been written to 'output.txt'.\n"
          ]
        }
      ]
    },
    {
      "cell_type": "code",
      "source": [
        "# Function to calculate GC-content\n",
        "def calculate_gc_content(dna_string):\n",
        "    \"\"\"Calculates the GC-content percentage of a DNA string.\"\"\"\n",
        "    gc_count = 0\n",
        "    total_length = len(dna_string)\n",
        "\n",
        "    # Handle the case of an empty string to avoid division by zero.\n",
        "    if total_length == 0:\n",
        "        return 0.0\n",
        "\n",
        "    for nucleotide in dna_string:\n",
        "        if nucleotide == 'G' or nucleotide == 'C':\n",
        "            gc_count += 1\n",
        "\n",
        "    return (gc_count / total_length) * 100\n",
        "\n",
        "# Open the input file and read its contents.\n",
        "# We'll use a 'with' statement for safe file handling.\n",
        "try:\n",
        "    with open('rosalind_gc.txt', 'r') as infile:\n",
        "        lines = infile.readlines()\n",
        "except FileNotFoundError:\n",
        "    print(\"Error: The file 'rosalind_gc.txt' was not found.\")\n",
        "    exit()\n",
        "\n",
        "# Dictionaries are excellent for storing key-value pairs. Here, we'll store\n",
        "# the FASTA ID as the key and the DNA string as the value.\n",
        "fasta_sequences = {}\n",
        "current_id = \"\"\n",
        "current_sequence = \"\"\n",
        "\n",
        "# Parse the FASTA file line by line.\n",
        "for line in lines:\n",
        "    line = line.strip()\n",
        "    if line.startswith('>'):\n",
        "        # If we encounter a new ID, we process the previous sequence (if any).\n",
        "        if current_id:\n",
        "            fasta_sequences[current_id] = current_sequence\n",
        "\n",
        "        # Reset for the new sequence.\n",
        "        current_id = line[1:]\n",
        "        current_sequence = \"\"\n",
        "    else:\n",
        "        # Append the DNA line to the current sequence string.\n",
        "        current_sequence += line\n",
        "\n",
        "# Don't forget to add the last sequence after the loop finishes.\n",
        "if current_id:\n",
        "    fasta_sequences[current_id] = current_sequence\n",
        "\n",
        "# Variables to track the highest GC-content and its corresponding ID.\n",
        "highest_gc_content = -1.0\n",
        "highest_gc_id = \"\"\n",
        "\n",
        "# Iterate through the dictionary to find the highest GC-content.\n",
        "for seq_id, seq in fasta_sequences.items():\n",
        "    gc_content = calculate_gc_content(seq)\n",
        "\n",
        "    if gc_content > highest_gc_content:\n",
        "        highest_gc_content = gc_content\n",
        "        highest_gc_id = seq_id\n",
        "\n",
        "# Write the result to the output file.\n",
        "with open('outputgc.txt', 'w') as outfile:\n",
        "    outfile.write(f\"{highest_gc_id}\\n\")\n",
        "    outfile.write(f\"{highest_gc_content:.6f}\\n\") # Format to 6 decimal places for precision.\n",
        "\n",
        "print(f\"Results have been written to 'outputgc.txt'. The highest GC-content belongs to: {highest_gc_id}\")"
      ],
      "metadata": {
        "colab": {
          "base_uri": "https://localhost:8080/"
        },
        "id": "hJs-ycJFBtuz",
        "outputId": "5a255ac3-1ac9-4c2c-a2d4-de4a3f61da3d"
      },
      "execution_count": 20,
      "outputs": [
        {
          "output_type": "stream",
          "name": "stdout",
          "text": [
            "Results have been written to 'outputgc.txt'. The highest GC-content belongs to: Rosalind_3927\n"
          ]
        }
      ]
    }
  ]
}