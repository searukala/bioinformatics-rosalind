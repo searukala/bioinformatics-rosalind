{
  "nbformat": 4,
  "nbformat_minor": 0,
  "metadata": {
    "colab": {
      "provenance": [],
      "collapsed_sections": [
        "jYlnA2Z2FhoW",
        "qRj8vCvXG-1k",
        "s7deJQCHHwOa",
        "GtjxkNHWN5Xo",
        "3yswDberkE7N",
        "4IM-9eAGkPdi",
        "nlBbe3qBRH_J",
        "_F9KCUzCd3ID",
        "iHFNxm30lzic",
        "sOgq54Op4MZL",
        "R5_dYi9f6t1z",
        "LdtXZ0LW9ugo",
        "i4Fo-ddSKWwy",
        "iupO8iI-ZYAe",
        "lY924yM0jckW",
        "NvqGEl4JjpiO",
        "DHzE7CI4lWGw",
        "WD5wnvQkmh6E",
        "kApNvgOLn8lp",
        "kq9QbEttnA4h"
      ],
      "include_colab_link": true
    },
    "kernelspec": {
      "name": "python3",
      "display_name": "Python 3"
    },
    "language_info": {
      "name": "python"
    }
  },
  "cells": [
    {
      "cell_type": "markdown",
      "metadata": {
        "id": "view-in-github",
        "colab_type": "text"
      },
      "source": [
        "<a href=\"https://colab.research.google.com/github/searukala/bioinformatics-rosalind/blob/main/notebooks/Bioinformatics_Module03.ipynb\" target=\"_parent\"><img src=\"https://colab.research.google.com/assets/colab-badge.svg\" alt=\"Open In Colab\"/></a>"
      ]
    },
    {
      "cell_type": "markdown",
      "source": [
        "# **<font color=blue>P1.** </font>Rename this notebook **Bioinformatics_Module03.ipynb </font><br>**"
      ],
      "metadata": {
        "id": "l3h89jAYBUzz"
      }
    },
    {
      "cell_type": "markdown",
      "source": [
        "# **<font color=blue>P2. </font>**```print()```writes to standard output (i.e. prints output to the screen)"
      ],
      "metadata": {
        "id": "jYlnA2Z2FhoW"
      }
    },
    {
      "cell_type": "markdown",
      "source": [
        "####**TASK P2.1:** Print <font color = magenta>hello world</font>"
      ],
      "metadata": {
        "id": "r118fqQodA9x"
      }
    },
    {
      "cell_type": "code",
      "source": [
        "print(\"hello world\")"
      ],
      "metadata": {
        "id": "kvxK8D5uFx_x"
      },
      "execution_count": null,
      "outputs": []
    },
    {
      "cell_type": "markdown",
      "source": [
        "# **<font color=blue>P3. </font>**```=``` is the ASSIGNMENT operator (assigns values to variables)\n",
        "####**TASK P3.1:** Ask Gemini, \"*Give me 3 examples to help practice understanding the assignment operator.*\""
      ],
      "metadata": {
        "id": "qRj8vCvXG-1k"
      }
    },
    {
      "cell_type": "code",
      "source": [
        "x=5\n",
        "x"
      ],
      "metadata": {
        "id": "VB8HPNe7JpuJ"
      },
      "execution_count": null,
      "outputs": []
    },
    {
      "cell_type": "markdown",
      "source": [
        "# **<font color=blue>P4. </font>** Data types: use ```type()``` to find a variable's \"type\"\n",
        "####**TASK P4.1:** Ask Gemini, \"*Give me examples of each data type to see how they look as outputs.*\""
      ],
      "metadata": {
        "id": "s7deJQCHHwOa"
      }
    },
    {
      "cell_type": "code",
      "source": [
        "type(x))"
      ],
      "metadata": {
        "colab": {
          "base_uri": "https://localhost:8080/"
        },
        "id": "ktR75uWIJ0uc",
        "outputId": "3a13d830-94ae-49a8-8f1f-16d97cd46292"
      },
      "execution_count": null,
      "outputs": [
        {
          "output_type": "execute_result",
          "data": {
            "text/plain": [
              "int"
            ]
          },
          "metadata": {},
          "execution_count": 20
        }
      ]
    },
    {
      "cell_type": "markdown",
      "source": [
        "# **<font color=blue>P5. </font>** Arithmetic and comparison operators\n",
        "####**TASK P5.1:**   Complete Rosalind #1"
      ],
      "metadata": {
        "id": "GtjxkNHWN5Xo"
      }
    },
    {
      "cell_type": "code",
      "source": [
        "# The input() function prompts the user for a line of input.\n",
        "# The user will be asked to enter two numbers separated by a space.\n",
        "input_string = input(\"Enter the two positive integers separated by a space: \")\n",
        "\n",
        "# The .split() method divides the input string into a list of strings\n",
        "# based on the space character.\n",
        "# The map(int, ...) function then converts each string in the list to an integer.\n",
        "# These integers are then assigned to the variables 'a' and 'b'.\n",
        "a, b = map(int, input_string.split())\n",
        "\n",
        "# According to the Pythagorean theorem, the square of the hypotenuse\n",
        "# of a right triangle (c²) is equal to the sum of the squares of its two legs\n",
        "# (a² + b²).\n",
        "# The ** operator is used for exponentiation.\n",
        "# The result is then printed to the console.\n",
        "result = a**2 + b**2\n",
        "print(result)\n"
      ],
      "metadata": {
        "id": "45s9c4vyQm2U",
        "outputId": "5325357d-9c1d-42cf-df90-4eaaab8d227a",
        "colab": {
          "base_uri": "https://localhost:8080/"
        }
      },
      "execution_count": 1,
      "outputs": [
        {
          "output_type": "stream",
          "name": "stdout",
          "text": [
            "Enter the two positive integers separated by a space: 801 882\n",
            "1419525\n"
          ]
        }
      ]
    },
    {
      "cell_type": "markdown",
      "source": [
        "# **<font color=blue>P6. </font>** ```input()``` gets input from the user"
      ],
      "metadata": {
        "id": "3yswDberkE7N"
      }
    },
    {
      "cell_type": "markdown",
      "source": [
        "TASK P6.1"
      ],
      "metadata": {
        "id": "z97rSY9gqdad"
      }
    },
    {
      "cell_type": "code",
      "metadata": {
        "colab": {
          "base_uri": "https://localhost:8080/"
        },
        "id": "d91046dd",
        "outputId": "19603f49-902d-4132-ed03-32ca502e3991"
      },
      "source": [
        "name = input(\"Enter your name: \")\n",
        "print(\"Hello, \" + name)"
      ],
      "execution_count": null,
      "outputs": [
        {
          "output_type": "stream",
          "name": "stdout",
          "text": [
            "Enter your name: Jeff\n",
            "Hello, Jeff\n"
          ]
        }
      ]
    },
    {
      "cell_type": "markdown",
      "source": [
        "####**TASK P6.1:** Solve Rosalind #1 again, but get user input for the values of a and b rather than modifying the code."
      ],
      "metadata": {
        "id": "e3LaAQeLRmE6"
      }
    },
    {
      "cell_type": "code",
      "source": [
        "a= int(input(\"enter a value for a:\"))\n",
        "b= int(input(\"enter a value for b:\"))\n",
        "c=a**2+b**2\n",
        "print (\"The sq of the hypotenuse is\",c)"
      ],
      "metadata": {
        "id": "wZ0XL0L6Rq2H",
        "outputId": "6a485525-943c-49f1-efd0-952a78181d43",
        "colab": {
          "base_uri": "https://localhost:8080/"
        }
      },
      "execution_count": null,
      "outputs": [
        {
          "output_type": "stream",
          "name": "stdout",
          "text": [
            "enter a value for a:801\n",
            "enter a value for b:882\n",
            "The sq of the hypotenuse is 1419525\n"
          ]
        }
      ]
    },
    {
      "cell_type": "markdown",
      "source": [
        "# **<font color=blue>P7. </font>** ```list``` type variables (create, replace, append)"
      ],
      "metadata": {
        "id": "4IM-9eAGkPdi"
      }
    },
    {
      "cell_type": "markdown",
      "source": [
        "####**TASK P7.1**"
      ],
      "metadata": {
        "id": "DhNGdYK6NEpe"
      }
    },
    {
      "cell_type": "code",
      "source": [
        "# Create a list with 3 elements and then print them\n",
        "\n",
        "my_list = [\"Hello\", \"World\", \"Charles Darwin\"]\n",
        "print (my_list[1])"
      ],
      "metadata": {
        "id": "N3VRRQIEkXuP"
      },
      "execution_count": null,
      "outputs": []
    },
    {
      "cell_type": "markdown",
      "source": [
        "####**TASK P7.2**"
      ],
      "metadata": {
        "id": "Yn3bAoi8NKy5"
      }
    },
    {
      "cell_type": "code",
      "source": [
        "# Substitute the item at index 2 in the list\n",
        "my_list[2] = \"Alfred R. Wallace\"\n",
        "print (my_list)"
      ],
      "metadata": {
        "id": "WNnsUuduOKbI"
      },
      "execution_count": null,
      "outputs": []
    },
    {
      "cell_type": "markdown",
      "source": [
        "####**TASK P7.3**"
      ],
      "metadata": {
        "id": "SxiMMNLyPwGV"
      }
    },
    {
      "cell_type": "code",
      "source": [
        "# Append an item to the end of the list\n",
        "my_list.append(\"Charles Darwin\")\n",
        "print (my_list)"
      ],
      "metadata": {
        "id": "3VrLc6CGQTi-"
      },
      "execution_count": null,
      "outputs": []
    },
    {
      "cell_type": "markdown",
      "source": [
        "####**TASK P7.4**. Ask Gemini how to <font color=crimson>```insert```</font> a new item at index 1 in the list"
      ],
      "metadata": {
        "id": "XQKmwgbfQond"
      }
    },
    {
      "cell_type": "code",
      "source": [
        "# On line #2 insert an item at index 1 of my_list\n",
        "\n",
        "print (my_list)"
      ],
      "metadata": {
        "id": "u0maP5CZZN13"
      },
      "execution_count": null,
      "outputs": []
    },
    {
      "cell_type": "markdown",
      "source": [
        "# **<font color=blue>P8. </font>** Slicing lists and strings"
      ],
      "metadata": {
        "id": "nlBbe3qBRH_J"
      }
    },
    {
      "cell_type": "markdown",
      "source": [
        "####**TASK P8.1** Slice and print only the middle two elements from the list created in P7 (i.e. only <font color=magenta>World</font> and <font color=magenta>Alfred R. Wallace</font>).  "
      ],
      "metadata": {
        "id": "M0YW2MP0WtuI"
      }
    },
    {
      "cell_type": "code",
      "source": [
        "print (my_list[2:4])"
      ],
      "metadata": {
        "colab": {
          "base_uri": "https://localhost:8080/"
        },
        "id": "Tp1djNtiaxSb",
        "outputId": "4a31ce1e-1575-4d0f-8860-6096ea8bad83"
      },
      "execution_count": null,
      "outputs": [
        {
          "output_type": "stream",
          "name": "stdout",
          "text": [
            "['World', 'Alfred R. Wallace']\n"
          ]
        }
      ]
    },
    {
      "cell_type": "markdown",
      "source": [
        "####**TASK P8.2**: Print <font color=magenta>Wallace World</font> from **my_string** by slicing\n"
      ],
      "metadata": {
        "id": "_F9KCUzCd3ID"
      }
    },
    {
      "cell_type": "code",
      "source": [
        "my_string = \"HelloWorldCharlesDarwinAlfred R. Walace\"\n",
        "print (my_string[0:5],my_string[5:10])\n",
        "\n",
        "# in the print command below input the correct index values to complete Task P8.2\n",
        "print (my_string[ : ],my_string[ : ])"
      ],
      "metadata": {
        "colab": {
          "base_uri": "https://localhost:8080/"
        },
        "id": "AafKngtba8En",
        "outputId": "5b35aa9b-37ad-4a2f-bc3f-4d3f4358991f"
      },
      "execution_count": null,
      "outputs": [
        {
          "output_type": "stream",
          "name": "stdout",
          "text": [
            "Hello World\n",
            "HelloWorldCharlesDarwinAlfred R. Walace HelloWorldCharlesDarwinAlfred R. Walace\n"
          ]
        }
      ]
    },
    {
      "cell_type": "markdown",
      "source": [
        "####**TASK P8.3**  **<font color = orange> Complete Rosalind Problem #2 Strings and Lists</font>**"
      ],
      "metadata": {
        "id": "2TTQVE-Xf8jR"
      }
    },
    {
      "cell_type": "code",
      "source": [
        "# Enter code for Rosalind 2 here:\n",
        "def slice_string(s, a, b, c, d):\n",
        "    # Python slice excludes the end, so add +1\n",
        "    part1 = s[a:b+1]\n",
        "    part2 = s[c:d+1]\n",
        "    return part1 + \" \" + part2\n",
        "\n",
        "# Read dataset from user input\n",
        "print(\"Paste your dataset string (single line):\")\n",
        "s = input().strip()\n",
        "\n",
        "print(\"Enter 4 integers (a b c d) separated by spaces:\")\n",
        "a, b, c, d = map(int, input().split())\n",
        "\n",
        "# Compute and display result\n",
        "result = slice_string(s, a, b, c, d)\n",
        "print(\"\\n Output:\")\n",
        "print(result)"
      ],
      "metadata": {
        "id": "LI88f5RZh4GL",
        "outputId": "632444b7-ae41-454a-e13e-170713358027",
        "colab": {
          "base_uri": "https://localhost:8080/"
        }
      },
      "execution_count": null,
      "outputs": [
        {
          "output_type": "stream",
          "name": "stdout",
          "text": [
            "Paste your dataset string (single line):\n",
            "9KujlcV6JXrrXiKMRgCaKf3ij69S77ldv2bBicJDqQYxIuhSaxicolaecJ3TQoZXCEZqOETvgDRqoKG0poXiQrvKSa30tgwpqXWCUgd3hmLUn2Ui69JwjNDnzFp3P5TBJMzserpentinaj9muTkRI0u8Ij4qG5KYIvcZLeJKtp0ciB3cR7kfh5W8M.\n",
            "Enter 4 integers (a b c d) separated by spaces:\n",
            "47 54 131 140\n",
            "\n",
            " Output:\n",
            "Saxicola serpentina\n"
          ]
        }
      ]
    },
    {
      "cell_type": "markdown",
      "source": [
        "####**<font color=crimson>TASK 8.4 Commit to GitHub**</font>*italicized text*"
      ],
      "metadata": {
        "id": "Tw6Pwh6TjwJ9"
      }
    },
    {
      "cell_type": "markdown",
      "source": [
        "# **<font color=blue>P9. </font>** ```if``` and ```else``` - conditional output"
      ],
      "metadata": {
        "id": "iHFNxm30lzic"
      }
    },
    {
      "cell_type": "markdown",
      "source": [
        "####**TASK P9.1** Create some code that subtracts two numbers if they are different or adds them if they are the same."
      ],
      "metadata": {
        "id": "WCXnGdftztbN"
      }
    },
    {
      "cell_type": "code",
      "source": [
        "a=5\n",
        "b=5\n",
        "\n",
        "if a!=b:\n",
        "  print(a-b)\n",
        "\n",
        "else:\n",
        "  print(a+b)"
      ],
      "metadata": {
        "id": "KabZsL5Fy8jJ"
      },
      "execution_count": null,
      "outputs": []
    },
    {
      "cell_type": "markdown",
      "source": [
        "# **<font color=blue>P10.</font>** ```while``` loops"
      ],
      "metadata": {
        "id": "sOgq54Op4MZL"
      }
    },
    {
      "cell_type": "markdown",
      "source": [
        "####**TASK P10.1** Create a while loop that runs 3 times\n"
      ],
      "metadata": {
        "id": "JMqGqhTn4l9s"
      }
    },
    {
      "cell_type": "code",
      "source": [
        "#initiate a counter\n",
        "a = 1\n",
        "\n",
        "#print \"Counting!\" while a<=3\n",
        "while a <= 3:\n",
        "\n",
        "    print (\"Counting!\" * a)\n",
        "    #a += 1"
      ],
      "metadata": {
        "id": "07YbiCGO4O1w"
      },
      "execution_count": null,
      "outputs": []
    },
    {
      "cell_type": "markdown",
      "source": [
        "# **<font color=blue>P11.</font>** ```for``` loops – looping over lists"
      ],
      "metadata": {
        "id": "R5_dYi9f6t1z"
      }
    },
    {
      "cell_type": "markdown",
      "source": [
        "####**TASK P11.1** Create a for loop to print each item in a list\n"
      ],
      "metadata": {
        "id": "x9F7v_V073wO"
      }
    },
    {
      "cell_type": "code",
      "source": [
        "names = [\"Alice\",\"Bob\",\"Charley\"]\n",
        "\n",
        "for name in names:\n",
        "    print (\"Hello\", name)"
      ],
      "metadata": {
        "id": "-aqaQ5hz70yo"
      },
      "execution_count": null,
      "outputs": []
    },
    {
      "cell_type": "markdown",
      "source": [
        "# **<font color=blue>P12.</font>** ```for``` loops over a ```range()```of numbers"
      ],
      "metadata": {
        "id": "LdtXZ0LW9ugo"
      }
    },
    {
      "cell_type": "markdown",
      "source": [
        "####**TASK 12.1** Using for and range(), create code that prints the numbers 0-9"
      ],
      "metadata": {
        "id": "jG6jvXEBDi4H"
      }
    },
    {
      "cell_type": "code",
      "source": [
        "# Create a variable to define the  number of iterations\n",
        "iterations = 10\n",
        "\n",
        "#Print the current item's value each time through the loop\n",
        "for number in range(iterations):\n",
        "    print (number)"
      ],
      "metadata": {
        "colab": {
          "base_uri": "https://localhost:8080/"
        },
        "id": "RFBXqQNu_E6X",
        "outputId": "17ea3665-5605-49cb-8207-56ae8b5b34ee"
      },
      "execution_count": null,
      "outputs": [
        {
          "output_type": "stream",
          "name": "stdout",
          "text": [
            "0\n",
            "1\n",
            "2\n",
            "3\n",
            "4\n",
            "5\n",
            "6\n",
            "7\n",
            "8\n",
            "9\n"
          ]
        }
      ]
    },
    {
      "cell_type": "markdown",
      "source": [
        "####**TASK 12.2** Modify the code so that it only prints every 3rd number from 9 through 27 (i.e. including 27)"
      ],
      "metadata": {
        "id": "NRd5srR_G-PQ"
      }
    },
    {
      "cell_type": "code",
      "source": [],
      "metadata": {
        "id": "irYTFPO-IRHo"
      },
      "execution_count": null,
      "outputs": []
    },
    {
      "cell_type": "markdown",
      "source": [
        "####**TASK 12.3** <font color = orange> **Complete Rosalind Problem #3 Conditions and Loops** </font>"
      ],
      "metadata": {
        "id": "83jDEjpMHXUa"
      }
    },
    {
      "cell_type": "code",
      "source": [
        "# Enter code for Rosalind 3 here:\n",
        "#3 Function to compute sum of odd integers between a and b\n",
        "def sum_of_odds(a, b):\n",
        "    total = 0\n",
        "    for i in range(a, b+1):   # inclusive of b\n",
        "        if i % 2 == 1:        # check if odd\n",
        "            total += i\n",
        "    return total\n",
        "\n",
        "# Read input from user\n",
        "a, b = map(int, input(\"Enter two integers (a b): \").split())\n",
        "\n",
        "# Compute result\n",
        "result = sum_of_odds(a, b)\n",
        "print(result)\n"
      ],
      "metadata": {
        "id": "EI7hRtakG90R",
        "outputId": "acd96018-59e2-4730-8561-696edf740fb3",
        "colab": {
          "base_uri": "https://localhost:8080/"
        }
      },
      "execution_count": null,
      "outputs": [
        {
          "output_type": "stream",
          "name": "stdout",
          "text": [
            "Enter two integers (a b): 4973 9621\n",
            "16965525\n"
          ]
        }
      ]
    },
    {
      "cell_type": "markdown",
      "source": [
        "####**<font color=crimson>TASK 12.4 Commit to GitHub**</font>"
      ],
      "metadata": {
        "id": "3P9DKNbPI1wp"
      }
    },
    {
      "cell_type": "markdown",
      "source": [
        "# **<font color=blue>P13.</font>** File I/O – with open(\"filename\", \"mode\") as filehandle:\n"
      ],
      "metadata": {
        "id": "i4Fo-ddSKWwy"
      }
    },
    {
      "cell_type": "markdown",
      "source": [
        "####**TASK P13.1** Use the ```read()``` function to print the <font color = orange>practice dataset from Rosalind #4</font>\n"
      ],
      "metadata": {
        "id": "sgc3wiQmLXcI"
      }
    },
    {
      "cell_type": "code",
      "source": [
        "with open(\"practice.txt\",\"r\") as data:\n",
        "\n",
        "    print(data.read())\n",
        "\n",
        "    #print(data.readline())\n",
        "\n",
        "    #print(data.readlines())"
      ],
      "metadata": {
        "id": "V5nzHsnULA_n"
      },
      "execution_count": null,
      "outputs": []
    },
    {
      "cell_type": "markdown",
      "source": [
        "####**TASK P13.2** Explore file object functions to read and print practice.txt"
      ],
      "metadata": {
        "id": "GLO6tBYNVzYZ"
      }
    },
    {
      "cell_type": "markdown",
      "source": [
        "#<font color=blue>**P14.**</font> Store the content, close the file, and join ( ) the list"
      ],
      "metadata": {
        "id": "iupO8iI-ZYAe"
      }
    },
    {
      "cell_type": "code",
      "source": [
        "with open(\"practice.txt\",\"r\") as data:\n",
        "\n",
        "  list_of_lines=data.readlines()\n",
        "\n",
        "print (list_of_lines)"
      ],
      "metadata": {
        "id": "8U5w2qOudDyp"
      },
      "execution_count": null,
      "outputs": []
    },
    {
      "cell_type": "markdown",
      "source": [
        "####**TASK P14.1** Read practice.txt into a list of lines. Then, after the file is closed, use the join ( ) function to print the contents so it looks like the original input."
      ],
      "metadata": {
        "id": "5pPhGmQYiiKx"
      }
    },
    {
      "cell_type": "code",
      "source": [
        "print (\"_\".join())"
      ],
      "metadata": {
        "id": "XLvFZ9uSeyYH"
      },
      "execution_count": null,
      "outputs": []
    },
    {
      "cell_type": "markdown",
      "source": [
        "#<font color=blue>**P15.**</font> Combining for loops with file objects"
      ],
      "metadata": {
        "id": "lY924yM0jckW"
      }
    },
    {
      "cell_type": "markdown",
      "source": [
        "####**TASK P15.1** Use a for loop to print each line in practice.txt"
      ],
      "metadata": {
        "id": "NvqGEl4JjpiO"
      }
    },
    {
      "cell_type": "code",
      "source": [
        "with open(\"practice.txt\",\"r\") as data:\n",
        "\n",
        "  for line in data:\n",
        "    print (line)"
      ],
      "metadata": {
        "id": "snY-10pUkMby"
      },
      "execution_count": null,
      "outputs": []
    },
    {
      "cell_type": "markdown",
      "source": [
        "####**TASK P15.2** <font color=orange>**Complete Rosalind Problem #4 Working with Files**</font>\n"
      ],
      "metadata": {
        "id": "DHzE7CI4lWGw"
      }
    },
    {
      "cell_type": "code",
      "source": [],
      "metadata": {
        "id": "8QR9dRFtltBN"
      },
      "execution_count": null,
      "outputs": []
    },
    {
      "cell_type": "code",
      "source": [
        "# Open the input file named 'input.txt' in read mode ('r').\n",
        "# The 'with' statement ensures the file is properly closed, even if errors occur.\n",
        "with open('/content/rosalind_ini5.txt', 'r') as infile:\n",
        "    # Read all lines from the file into a list.\n",
        "    # The .readlines() method is great for this, as it keeps the original\n",
        "    # newline characters.\n",
        "    lines = infile.readlines()\n",
        "\n",
        "# The problem requires 1-based numbering.\n",
        "# We'll use a for loop with enumerate() to get both the index and the line content.\n",
        "# The index is 0-based, so we'll add 1 to get the correct line number.\n",
        "for index, line in enumerate(lines):\n",
        "    # We check if the line number (index + 1) is even using the modulo operator (%).\n",
        "    # If the remainder of the division by 2 is 0, the number is even.\n",
        "    if (index + 1) % 2 == 0:\n",
        "        # If the line is even-numbered, we print its content.\n",
        "        # The 'end=\"\"' argument prevents print from adding an extra newline,\n",
        "        # ensuring the output preserves the original line breaks.\n",
        "        print(line, end=\"\")"
      ],
      "metadata": {
        "colab": {
          "base_uri": "https://localhost:8080/"
        },
        "id": "uSB8z5KT755U",
        "outputId": "d2cda3c8-82cf-4c6e-a609-f94d6452b811"
      },
      "execution_count": null,
      "outputs": [
        {
          "output_type": "stream",
          "name": "stdout",
          "text": [
            "Some things in life are bad, they can really make you mad\n",
            "Other things just make you swear and curse\n",
            "When you're chewing on life's gristle, don't grumble give a whistle\n",
            "This will help things turn out for the best\n",
            "Always look on the bright side of life\n",
            "Always look on the right side of life\n",
            "If life seems jolly rotten, there's something you've forgotten\n",
            "And that's to laugh and smile and dance and sing\n",
            "When you're feeling in the dumps, don't be silly, chumps\n",
            "Just purse your lips and whistle, that's the thing\n",
            "So, always look on the bright side of death\n",
            "Just before you draw your terminal breath\n",
            "Life's a counterfeit and when you look at it\n",
            "Life's a laugh and death's the joke, it's true\n",
            "You see, it's all a show, keep them laughing as you go\n",
            "Just remember the last laugh is on you\n",
            "Always look on the bright side of life\n",
            "And always look on the right side of life\n",
            "Always look on the bright side of life\n",
            "And always look on the right side of life\n"
          ]
        }
      ]
    },
    {
      "cell_type": "markdown",
      "source": [
        "####**<font color=crimson>TASK 15.4 Commit to GitHub**</font>"
      ],
      "metadata": {
        "id": "GJ_acW4WlwDn"
      }
    },
    {
      "cell_type": "markdown",
      "source": [
        "#<font color=blue>**P16.**</font> ```for word in line.split()``` – looping over strings and splitting by any delimiter"
      ],
      "metadata": {
        "id": "WD5wnvQkmh6E"
      }
    },
    {
      "cell_type": "markdown",
      "source": [
        "####**TASK P16.1** Print each word in the ROSALIND Problem #5 Sample Dataset on a separate line.\n"
      ],
      "metadata": {
        "id": "kApNvgOLn8lp"
      }
    },
    {
      "cell_type": "code",
      "source": [
        "with open(\"practice_5.txt\",\"r\") as data:\n",
        "\n",
        "  line=data.read()\n",
        "\n",
        "for word in line.split():\n",
        "    print (word)"
      ],
      "metadata": {
        "colab": {
          "base_uri": "https://localhost:8080/"
        },
        "id": "PBjyhwclpKoM",
        "outputId": "afb464a8-3407-43ec-e091-5e57dd22b646"
      },
      "execution_count": null,
      "outputs": [
        {
          "output_type": "stream",
          "name": "stdout",
          "text": [
            "We\n",
            "tried\n",
            "list\n",
            "and\n",
            "we\n",
            "tried\n",
            "dicts\n",
            "also\n",
            "we\n",
            "tried\n",
            "Zen\n"
          ]
        }
      ]
    },
    {
      "cell_type": "markdown",
      "source": [
        "#<font color=blue>**P17.**</font> Python Dictionaries { }"
      ],
      "metadata": {
        "id": "kq9QbEttnA4h"
      }
    },
    {
      "cell_type": "markdown",
      "source": [
        "####**TASK 17.1** Create and print your first dictionary"
      ],
      "metadata": {
        "id": "lVudFQkZqJgh"
      }
    },
    {
      "cell_type": "code",
      "source": [
        "sequences = {\n",
        "    \"H.neandertalensis\":\"ACGTCGCTCTGCTA\",\n",
        "    \"H.sapiens\":\"ACGTCACTCTGCTA\"\n",
        "    }\n",
        "\n",
        "print (sequences)"
      ],
      "metadata": {
        "colab": {
          "base_uri": "https://localhost:8080/"
        },
        "id": "IzKFWDlgq6zo",
        "outputId": "1a4d0584-afcb-46ea-fac1-265bbc7bcd89"
      },
      "execution_count": null,
      "outputs": [
        {
          "output_type": "stream",
          "name": "stdout",
          "text": [
            "{'H.neandertalensis': 'ACGTCGCTCTGCTA', 'H.sapiens': 'ACGTCACTCTGCTA'}\n",
            "ACGTCACTCTGCTA\n",
            ">H.neandertalensis\n",
            "ACGTCGCTCTGCTA\n",
            ">H.sapiens\n",
            "ACGTCACTCTGCTA\n",
            ">P.troglodytes\n",
            "ACGTCACTCTCCTA\n",
            ">G.gorilla\n",
            "ACGTCCTCCTA\n",
            ">H.erectus\n",
            "ACGTCACTCTGCTA\n"
          ]
        },
        {
          "output_type": "execute_result",
          "data": {
            "text/plain": [
              "{'H.neandertalensis': 'ACGTCGCTCTGCTA',\n",
              " 'H.sapiens': 'ACGTCACTCTGCTA',\n",
              " 'P.troglodytes': 'ACGTCACTCTCCTA',\n",
              " 'G.gorilla': 'ACGTCCTCCTA',\n",
              " 'H.erectus': 'ACGTCACTCTGCTA'}"
            ]
          },
          "metadata": {},
          "execution_count": 60
        }
      ]
    },
    {
      "cell_type": "markdown",
      "source": [
        "#<font color=blue>**P18.**</font> Manipulating and printing dictionaries"
      ],
      "metadata": {
        "id": "OvqoT6UwnK0g"
      }
    },
    {
      "cell_type": "markdown",
      "source": [
        "####**TASK 18.1** Modify line 8 to create a fasta file of the hominid sequences"
      ],
      "metadata": {
        "id": "5Be2tcQRrjso"
      }
    },
    {
      "cell_type": "code",
      "source": [
        "sequences[\"P.troglodytes\"]=\"ACGTCACTCTCCTA\"\n",
        "\n",
        "sequences.update({\"G.gorilla\":\"ACGTCCTCCTA\", \"H.erectus\":\"ACGTCACTCTGCTA\"})\n",
        "\n",
        "print (sequences[\"H.sapiens\"])\n",
        "\n",
        "for key,value in sequences.items():\n",
        "     print (key,value)"
      ],
      "metadata": {
        "colab": {
          "base_uri": "https://localhost:8080/"
        },
        "id": "b-2XDof4rtP8",
        "outputId": "1e998098-f26e-4df1-fd79-38816a84ee15"
      },
      "execution_count": null,
      "outputs": [
        {
          "output_type": "stream",
          "name": "stdout",
          "text": [
            "ACGTCACTCTGCTA\n",
            "H.neandertalensis ACGTCGCTCTGCTA\n",
            "H.sapiens ACGTCACTCTGCTA\n",
            "P.troglodytes ACGTCACTCTCCTA\n",
            "G.gorilla ACGTCCTCCTA\n",
            "H.erectus ACGTCACTCTGCTA\n"
          ]
        }
      ]
    },
    {
      "cell_type": "markdown",
      "source": [
        "####**TASK P18.2** <font color= orange>**Complete Rosalind Problem #5  Dictionaries**</font>"
      ],
      "metadata": {
        "id": "Y98OZYUNvmWD"
      }
    },
    {
      "cell_type": "code",
      "source": [
        "# The input() function prompts the user for a line of input.\n",
        "# The user will paste or type the entire string of text.\n",
        "print(\"Please paste your text and press Enter:\")\n",
        "s = input()\n",
        "\n",
        "# We split the input string 's' into a list of words.\n",
        "# The .split() method handles separating words by spaces.\n",
        "words = s.split()\n",
        "\n",
        "# A dictionary is used to store the frequency of each word.\n",
        "# Keys will be the unique words, and values will be their counts.\n",
        "word_counts = {}\n",
        "\n",
        "# Iterate over each word in the list.\n",
        "for word in words:\n",
        "    # We use a dictionary method, .get(), to simplify the logic.\n",
        "    # It returns the value for a key if it's in the dictionary,\n",
        "    # and a default value (in this case, 0) if it's not.\n",
        "    # We then add 1 to this value and assign it back to the dictionary.\n",
        "    word_counts[word] = word_counts.get(word, 0) + 1\n",
        "\n",
        "# Finally, we loop through the dictionary to display the results.\n",
        "# The .items() method gives us each key-value pair.\n",
        "for word, count in word_counts.items():\n",
        "    print(f\"{word} {count}\")"
      ],
      "metadata": {
        "colab": {
          "base_uri": "https://localhost:8080/"
        },
        "id": "xtY8vYFs-JOn",
        "outputId": "1e4e35f2-2f92-43f6-8a88-be0146a4233e"
      },
      "execution_count": null,
      "outputs": [
        {
          "output_type": "stream",
          "name": "stdout",
          "text": [
            "Please paste your text and press Enter:\n",
            "When I find myself in times of trouble Mother Mary comes to me Speaking words of wisdom let it be And in my hour of darkness she is standing right in front of me Speaking words of wisdom let it be Let it be let it be let it be let it be Whisper words of wisdom let it be And when the broken hearted people living in the world agree There will be an answer let it be For though they may be parted there is still a chance that they will see There will be an answer let it be Let it be let it be let it be let it be There will be an answer let it be Let it be let it be let it be let it be Whisper words of wisdom let it be Let it be let it be let it be let it be Whisper words of wisdom let it be And when the night is cloudy there is still a light that shines on me Shine until tomorrow let it be I wake up to the sound of music Mother Mary comes to me Speaking words of wisdom let it be Let it be let it be let it be yeah let it be There will be an answer let it be Let it be let it be let it be yeah let it be Whisper words of wisdom let it be\n",
            "When 1\n",
            "I 2\n",
            "find 1\n",
            "myself 1\n",
            "in 4\n",
            "times 1\n",
            "of 11\n",
            "trouble 1\n",
            "Mother 2\n",
            "Mary 2\n",
            "comes 2\n",
            "to 3\n",
            "me 4\n",
            "Speaking 3\n",
            "words 7\n",
            "wisdom 7\n",
            "let 30\n",
            "it 36\n",
            "be 41\n",
            "And 3\n",
            "my 1\n",
            "hour 1\n",
            "darkness 1\n",
            "she 1\n",
            "is 4\n",
            "standing 1\n",
            "right 1\n",
            "front 1\n",
            "Let 6\n",
            "Whisper 4\n",
            "when 2\n",
            "the 4\n",
            "broken 1\n",
            "hearted 1\n",
            "people 1\n",
            "living 1\n",
            "world 1\n",
            "agree 1\n",
            "There 4\n",
            "will 5\n",
            "an 4\n",
            "answer 4\n",
            "For 1\n",
            "though 1\n",
            "they 2\n",
            "may 1\n",
            "parted 1\n",
            "there 2\n",
            "still 2\n",
            "a 2\n",
            "chance 1\n",
            "that 2\n",
            "see 1\n",
            "night 1\n",
            "cloudy 1\n",
            "light 1\n",
            "shines 1\n",
            "on 1\n",
            "Shine 1\n",
            "until 1\n",
            "tomorrow 1\n",
            "wake 1\n",
            "up 1\n",
            "sound 1\n",
            "music 1\n",
            "yeah 2\n"
          ]
        }
      ]
    },
    {
      "cell_type": "markdown",
      "source": [
        "####**<font color=crimson>TASK 18.3 Commit to GitHub**</font>"
      ],
      "metadata": {
        "id": "1dJdfy4bwVO4"
      }
    },
    {
      "cell_type": "markdown",
      "source": [
        "#<font color=blue>**P19.**</font> ```count()``` – counting things made easy"
      ],
      "metadata": {
        "id": "28ygQlYJnZoA"
      }
    },
    {
      "cell_type": "markdown",
      "source": [
        "####**TASK P19.1** <font color= orange>**Complete Rosalind Problem #6  Counting DNA Nucleotides**</font>"
      ],
      "metadata": {
        "id": "CZ9tBWDmw4D-"
      }
    },
    {
      "cell_type": "code",
      "source": [
        "# The input() function prompts the user to enter the DNA string.\n",
        "print(\"Please enter the DNA string:\")\n",
        "dna_string = input()\n",
        "\n",
        "# We initialize four variables to count the occurrences of each nucleotide.\n",
        "count_A = 0\n",
        "count_C = 0\n",
        "count_G = 0\n",
        "count_T = 0\n",
        "\n",
        "# We iterate through each character in the input DNA string.\n",
        "for nucleotide in dna_string:\n",
        "    # We use an if-elif-else block to check which nucleotide the character is\n",
        "    # and increment the corresponding counter.\n",
        "    if nucleotide == 'A':\n",
        "        count_A += 1\n",
        "    elif nucleotide == 'C':\n",
        "        count_C += 1\n",
        "    elif nucleotide == 'G':\n",
        "        count_G += 1\n",
        "    elif nucleotide == 'T':\n",
        "        count_T += 1\n",
        "\n",
        "# Finally, we print the counts of A, C, G, and T, separated by spaces.\n",
        "print(count_A, count_C, count_G, count_T)"
      ],
      "metadata": {
        "id": "GlwS14zGxBIC",
        "outputId": "0dc942ba-9fb0-4f47-c809-9f400dd82a93",
        "colab": {
          "base_uri": "https://localhost:8080/"
        }
      },
      "execution_count": null,
      "outputs": [
        {
          "output_type": "stream",
          "name": "stdout",
          "text": [
            "Please enter the DNA string:\n",
            "CCTCGCCGATTGATGCGGTCTGATGCTAGACAACTACCATCCTTCCCCGAATTTTCGTGCCTTCTGTCACAGTGCTGCAGCCGAAAACACCCGCGAGCCGCACAAGAGCGCGCAGGAGCATTTATTAAGAGCCATCAAAACGTCTGCACCGGGGGATAGGACTCGTATTTATCTGCGCCTATTGCCACCTCATCTAGCTTTCTACGTGGCTCCATCCGGAATTCCTGTCAGTCGTAACGGCCCCAGCTGCGAAAAGATGCGCAATGTCTTTAAGTAGAACAAGAGAAATAAACAGCACTGGGTTTTTGATTACCGTCACATCTGAAAGCGTAAGATTACCCTGGTTAGATGAACCCAGCAATACGAAGCCAATTGGTCGTCTCAGTTTATCAGTGAACCTAACTAGGAGACTTCTGGAAAGATTCGGGGTATCTTCAGGCCTTGCCAGAAACTCACACGACGGCACCGGTATACGCATAGCTATTGGTGCGCGGCCTACTGGCCCACGTCTCGAGATTGGTCGGCCGGGGTCGGCCGGTTGTGCTGGTATAGACAAGTCGGGTCCCCAGTCCATAAGGTGGTGTCGCAGCGTGGTTAGGCCTGTCAATTTAATTATGCCCAGTGTTGATGGCTACACCGGTGTGATGATGGGTGCCCCTCGGCCAAGGGCGCGCAGAATCCTCATACTACTAAGATGCTCTCCCGGACTGGGGATTGCGCGAGAAAAGCGGGGCTGCCGGCGGGCTTCTCTTCTTGACACTTTGTGGCTTGGAACAGTTCAACCAGCTCGTGGGTATGGCATAGGTTTAACCAGTGGATCC\n",
            "188 215 221 197\n"
          ]
        }
      ]
    },
    {
      "cell_type": "markdown",
      "source": [
        "\\####**TASK P19.2** Modify your code for the Rosalind #5 Dictionary problem so that it uses count( ) to count the words."
      ],
      "metadata": {
        "id": "rj-OWB6Jym5y"
      }
    },
    {
      "cell_type": "code",
      "source": [
        "# The input() function prompts the user to enter the DNA string.\n",
        "print(\"Please enter the DNA string:\")\n",
        "dna_string = input()\n",
        "\n",
        "# We use the built-in string.count() method to efficiently count\n",
        "# the occurrences of each nucleotide in the DNA string.\n",
        "count_A = dna_string.count('A')\n",
        "count_C = dna_string.count('C')\n",
        "count_G = dna_string.count('G')\n",
        "count_T = dna_string.count('T')\n",
        "\n",
        "# The count() method provides a more direct way to count characters\n",
        "# compared to a manual loop. It returns the number of non-overlapping\n",
        "# occurrences of the substring in the string.\n",
        "\n",
        "# Finally, we print the counts of A, C, G, and T, separated by spaces.\n",
        "print(count_A, count_C, count_G, count_T)\n"
      ],
      "metadata": {
        "id": "9H_S6jLnzfxR",
        "outputId": "8c956075-0951-4735-e2dd-7184cd5cf5d3",
        "colab": {
          "base_uri": "https://localhost:8080/"
        }
      },
      "execution_count": null,
      "outputs": [
        {
          "output_type": "stream",
          "name": "stdout",
          "text": [
            "Please enter the DNA string:\n",
            "CCTCGCCGATTGATGCGGTCTGATGCTAGACAACTACCATCCTTCCCCGAATTTTCGTGCCTTCTGTCACAGTGCTGCAGCCGAAAACACCCGCGAGCCGCACAAGAGCGCGCAGGAGCATTTATTAAGAGCCATCAAAACGTCTGCACCGGGGGATAGGACTCGTATTTATCTGCGCCTATTGCCACCTCATCTAGCTTTCTACGTGGCTCCATCCGGAATTCCTGTCAGTCGTAACGGCCCCAGCTGCGAAAAGATGCGCAATGTCTTTAAGTAGAACAAGAGAAATAAACAGCACTGGGTTTTTGATTACCGTCACATCTGAAAGCGTAAGATTACCCTGGTTAGATGAACCCAGCAATACGAAGCCAATTGGTCGTCTCAGTTTATCAGTGAACCTAACTAGGAGACTTCTGGAAAGATTCGGGGTATCTTCAGGCCTTGCCAGAAACTCACACGACGGCACCGGTATACGCATAGCTATTGGTGCGCGGCCTACTGGCCCACGTCTCGAGATTGGTCGGCCGGGGTCGGCCGGTTGTGCTGGTATAGACAAGTCGGGTCCCCAGTCCATAAGGTGGTGTCGCAGCGTGGTTAGGCCTGTCAATTTAATTATGCCCAGTGTTGATGGCTACACCGGTGTGATGATGGGTGCCCCTCGGCCAAGGGCGCGCAGAATCCTCATACTACTAAGATGCTCTCCCGGACTGGGGATTGCGCGAGAAAAGCGGGGCTGCCGGCGGGCTTCTCTTCTTGACACTTTGTGGCTTGGAACAGTTCAACCAGCTCGTGGGTATGGCATAGGTTTAACCAGTGGATCC\n",
            "188 215 221 197\n"
          ]
        }
      ]
    },
    {
      "cell_type": "markdown",
      "source": [
        "####**<font color=crimson>TASK 19.3 Commit to GitHub**</font>\n"
      ],
      "metadata": {
        "id": "RzMon_wAzg7D"
      }
    },
    {
      "cell_type": "markdown",
      "source": [
        "#<font color=blue>**P20.**</font> Installing biopython"
      ],
      "metadata": {
        "id": "-IB0c2gG0Z1O"
      }
    },
    {
      "cell_type": "code",
      "source": [
        "!pip install biopython"
      ],
      "metadata": {
        "colab": {
          "base_uri": "https://localhost:8080/"
        },
        "id": "pinPQdEn0mJM",
        "outputId": "87a0b9ae-2c9d-447f-8eca-d9020b2b713a"
      },
      "execution_count": null,
      "outputs": [
        {
          "output_type": "stream",
          "name": "stdout",
          "text": [
            "Collecting biopython\n",
            "  Downloading biopython-1.85-cp312-cp312-manylinux_2_17_x86_64.manylinux2014_x86_64.whl.metadata (13 kB)\n",
            "Requirement already satisfied: numpy in /usr/local/lib/python3.12/dist-packages (from biopython) (2.0.2)\n",
            "Downloading biopython-1.85-cp312-cp312-manylinux_2_17_x86_64.manylinux2014_x86_64.whl (3.3 MB)\n",
            "\u001b[2K   \u001b[90m━━━━━━━━━━━━━━━━━━━━━━━━━━━━━━━━━━━━━━━━\u001b[0m \u001b[32m3.3/3.3 MB\u001b[0m \u001b[31m36.0 MB/s\u001b[0m eta \u001b[36m0:00:00\u001b[0m\n",
            "\u001b[?25hInstalling collected packages: biopython\n",
            "Successfully installed biopython-1.85\n"
          ]
        }
      ]
    },
    {
      "cell_type": "code",
      "metadata": {
        "colab": {
          "base_uri": "https://localhost:8080/"
        },
        "id": "5ccd6f0b",
        "outputId": "e0650d46-1501-47ef-e6c0-98c374646574"
      },
      "source": [
        "try:\n",
        "  from Bio.Seq import Seq\n",
        "  print(\"Biopython is installed correctly.\")\n",
        "except ImportError:\n",
        "  print(\"Biopython is not installed or there was an import error.\")"
      ],
      "execution_count": null,
      "outputs": [
        {
          "output_type": "stream",
          "name": "stdout",
          "text": [
            "Biopython is installed correctly.\n"
          ]
        }
      ]
    },
    {
      "cell_type": "markdown",
      "source": [
        "#<font color=blue>**P21.**</font> Seq( ) – a function to define sequence objects"
      ],
      "metadata": {
        "id": "IGX-ThdQ3RuA"
      }
    },
    {
      "cell_type": "code",
      "source": [
        "from Bio.Seq import Seq\n",
        "\n",
        "my_sequence = Seq(\"GATGGAACTTGACTACGTAAATT\")"
      ],
      "metadata": {
        "id": "ltZBr8mE4OhM"
      },
      "execution_count": null,
      "outputs": []
    },
    {
      "cell_type": "markdown",
      "source": [
        "####**TASK BP21.2** <font color=orange> **Complete Rosalind #7 Transcribing DNA into RNA**</font>"
      ],
      "metadata": {
        "id": "UXCuEFxg6Jxx"
      }
    },
    {
      "cell_type": "code",
      "source": [
        "# The input() function prompts the user to enter the DNA string.\n",
        "print(\"Please enter the DNA string:\")\n",
        "dna_string = input()\n",
        "\n",
        "# The .replace() method is an efficient way to substitute all occurrences\n",
        "# of a specific character within a string.\n",
        "# We replace all 'T' characters with 'U' characters.\n",
        "rna_string = dna_string.replace('T', 'U')\n",
        "\n",
        "# The resulting RNA string is then printed to the console.\n",
        "print(rna_string)"
      ],
      "metadata": {
        "id": "UXt6gWLM6qde",
        "outputId": "5952b98f-5cfd-4698-b527-7abed8c107d0",
        "colab": {
          "base_uri": "https://localhost:8080/"
        }
      },
      "execution_count": null,
      "outputs": [
        {
          "output_type": "stream",
          "name": "stdout",
          "text": [
            "Please enter the DNA string:\n",
            "AGATGATGCGATGTAGGGATGCGGCCTTAGTAACAGCCCTTTGTTGATGACGAATTTGTGCACTGCCCGCTGAACCTCTGAACAGTACGACTATATTGCGTTGACCCACGCACACACACTCAGACACTTAATCATGGGCGCTTGACAGTACTAGCATCCCTCTGAGATTTTACGTTGAGGTCCTGGAAGTGCCGCGCGAGGTTTTAGCGAGTCAATGGAGTGTCAATGTGTGATAATGAATACGTGGTCATTTCTAGGGCACAGCCGGGTGCGGACCGGCGTTCTAATCCCGTATATCTCCGTGTGAACTGCCCATTTACATTCTAAAAGATCGGGTGAGCATATCACAGCAGTCAAAACTGCCGAACCACGACGATTGGCTCCGTTTTGCTGTGCAAACGAGGTCCGGCGGAGCCTCCAAATTGCATCACCGTTTGTATTAGCCAGTTACCGTACTCTGAACTCTGAAATGACCAACGCCCAAATTGGCGCTGCTCAGCCAACGTGTATGGGGCCGTATTCCACACGGGATCCCGTTGTAAATGGCTGGGCGCAACATTGGCTTGGCAAAATGGCACAGGTGATGAGAATCTAAAGGAACATTACGCTAAGCTGCAATAGATCACCTATCTAGTCGACTAGTCTGCAACACAAACGATGCAATGTATGCAGGTTCCGTAGATACCTGCCAAGTCTTAAGCAAACAACGGATACTCAGCGAAATGCAGACGGTGTCTGCAGAGCCGTCCGTCTCAATACTTCCTCTCTCTAAACACTATTGCCGAGTTTGTATCGCTAGGCATTGACCTGTCGATTAGTCCGATGTTTCGTGTAGTCGGTTATTTGATACGACCTGACCGCACAACCGTCGAGTATGTGTTTGGAAGTATAGTTACTTAAGATAATTCTTGTAAATAGATGCCT\n",
            "AGAUGAUGCGAUGUAGGGAUGCGGCCUUAGUAACAGCCCUUUGUUGAUGACGAAUUUGUGCACUGCCCGCUGAACCUCUGAACAGUACGACUAUAUUGCGUUGACCCACGCACACACACUCAGACACUUAAUCAUGGGCGCUUGACAGUACUAGCAUCCCUCUGAGAUUUUACGUUGAGGUCCUGGAAGUGCCGCGCGAGGUUUUAGCGAGUCAAUGGAGUGUCAAUGUGUGAUAAUGAAUACGUGGUCAUUUCUAGGGCACAGCCGGGUGCGGACCGGCGUUCUAAUCCCGUAUAUCUCCGUGUGAACUGCCCAUUUACAUUCUAAAAGAUCGGGUGAGCAUAUCACAGCAGUCAAAACUGCCGAACCACGACGAUUGGCUCCGUUUUGCUGUGCAAACGAGGUCCGGCGGAGCCUCCAAAUUGCAUCACCGUUUGUAUUAGCCAGUUACCGUACUCUGAACUCUGAAAUGACCAACGCCCAAAUUGGCGCUGCUCAGCCAACGUGUAUGGGGCCGUAUUCCACACGGGAUCCCGUUGUAAAUGGCUGGGCGCAACAUUGGCUUGGCAAAAUGGCACAGGUGAUGAGAAUCUAAAGGAACAUUACGCUAAGCUGCAAUAGAUCACCUAUCUAGUCGACUAGUCUGCAACACAAACGAUGCAAUGUAUGCAGGUUCCGUAGAUACCUGCCAAGUCUUAAGCAAACAACGGAUACUCAGCGAAAUGCAGACGGUGUCUGCAGAGCCGUCCGUCUCAAUACUUCCUCUCUCUAAACACUAUUGCCGAGUUUGUAUCGCUAGGCAUUGACCUGUCGAUUAGUCCGAUGUUUCGUGUAGUCGGUUAUUUGAUACGACCUGACCGCACAACCGUCGAGUAUGUGUUUGGAAGUAUAGUUACUUAAGAUAAUUCUUGUAAAUAGAUGCCU\n"
          ]
        }
      ]
    },
    {
      "cell_type": "markdown",
      "source": [
        "####**TASK BP21.2** <font color=orange> **Complete Rosalind #8  Translating RNA into Protein**</font>"
      ],
      "metadata": {
        "id": "9P4_MaXp6O3n"
      }
    },
    {
      "cell_type": "code",
      "source": [
        "# The RNA codon table is represented as a dictionary.\n",
        "# It maps each 3-nucleotide codon to its corresponding amino acid.\n",
        "rna_codon_table = {\n",
        "    'AUA': 'I', 'AUC': 'I', 'AUU': 'I', 'AUG': 'M',\n",
        "    'ACA': 'T', 'ACC': 'T', 'ACG': 'T', 'ACU': 'T',\n",
        "    'AAC': 'N', 'AAU': 'N', 'AAA': 'K', 'AAG': 'K',\n",
        "    'AGC': 'S', 'AGU': 'S', 'AGA': 'R', 'AGG': 'R',\n",
        "    'CUA': 'L', 'CUC': 'L', 'CUG': 'L', 'CUU': 'L',\n",
        "    'CCA': 'P', 'CCC': 'P', 'CCG': 'P', 'CCU': 'P',\n",
        "    'CAC': 'H', 'CAU': 'H', 'CAA': 'Q', 'CAG': 'Q',\n",
        "    'CGA': 'R', 'CGC': 'R', 'CGG': 'R', 'CGU': 'R',\n",
        "    'GUA': 'V', 'GUC': 'V', 'GUG': 'V', 'GUU': 'V',\n",
        "    'GCA': 'A', 'GCC': 'A', 'GCG': 'A', 'GCU': 'A',\n",
        "    'GAC': 'D', 'GAU': 'D', 'GAA': 'E', 'GAG': 'E',\n",
        "    'GGA': 'G', 'GGC': 'G', 'GGG': 'G', 'GGU': 'G',\n",
        "    'UCA': 'S', 'UCC': 'S', 'UCG': 'S', 'UCU': 'S',\n",
        "    'UUC': 'F', 'UUU': 'F', 'UUA': 'L', 'UUG': 'L',\n",
        "    'UAC': 'Y', 'UAU': 'Y', 'UAA': 'Stop', 'UAG': 'Stop',\n",
        "    'UGC': 'C', 'UGU': 'C', 'UGA': 'Stop', 'UGG': 'W',\n",
        "}\n",
        "\n",
        "# Prompt the user to enter the RNA string.\n",
        "print(\"Please enter the RNA string to translate:\")\n",
        "rna_string = input()\n",
        "\n",
        "# A list is used to build the protein sequence.\n",
        "protein_sequence = []\n",
        "\n",
        "# Iterate through the RNA string in steps of 3 to process each codon.\n",
        "for i in range(0, len(rna_string), 3):\n",
        "    codon = rna_string[i:i+3]\n",
        "    amino_acid = rna_codon_table.get(codon)\n",
        "\n",
        "    # Check for a stop codon to end the translation.\n",
        "    if amino_acid == 'Stop':\n",
        "        break\n",
        "\n",
        "    # Append the translated amino acid to the list.\n",
        "    protein_sequence.append(amino_acid)\n",
        "\n",
        "# Join the list of amino acids into a single protein string and print the result.\n",
        "protein_string = \"\".join(protein_sequence)\n",
        "print(protein_string)"
      ],
      "metadata": {
        "id": "5Rzzfzij6q2P",
        "outputId": "6cc23994-dabc-487b-97ca-6c452382f198",
        "colab": {
          "base_uri": "https://localhost:8080/"
        }
      },
      "execution_count": null,
      "outputs": [
        {
          "output_type": "stream",
          "name": "stdout",
          "text": [
            "Please enter the RNA string to translate:\n",
            "AUGUAUUCUGUCCUUCUAGUCCUGUUGGGUGCCUCAUAUAGCCAGGUUUCCAAAAUUCAUAAGGUGAGCAGCAUCUGGUACCUCCGAUCCGGUCUACCGGAGCUUCGAAGCUUAAUCACUCGACUUGUCAACCCCGACUGUCACUCCGGCGCUGAACAACAGGCCUACUCGCAGAUUAGCCCGAGCUGGCUUAGAAUAGACCCAUCUUCAGCUUGCGCUUUUUAUAACGCUGCUGCGACACGUGAACGGGCGAGCCAUAACACUCAAGGCGCGCCGUACGCAGAGACUGACAGCAGUCUUUGGAUGAGAUUCUCACACAGUCCCUUGUCUCCAUGCUCUUCCCAAGGGCGAAUAAUGUCCCAUGUCGUUGGUGACUUACCUUUAAUGAGACAGGCUUCAAGCAGUGCACCAUCAGAACUAUACCAACAUUAUAUGAUACCAGUUAGUGGGAAUGUGUCCGCUGCCCAUACUGGAUGCUUCGUUCAGAACGUCCCCACGCCUACGGCUGGAAACACUGACCGUUCGAUGACACCUCUUCUAGCAAAGUUCGGGCAACGCCUUAUCAAGGGGUAUCCGUAUCGCUUGCAGACUGGUCAAUUCCCCUCCCUACGGAUAUAUUUCACAUCAGCCGGCGAACGACAAGGACUGUGGGAAAACCUCGCCACAUUGAUUUCUACACAACCAAAAUUUAAGUCAAAGUCCGGCCUACGAAUUUUGGGCGUACGCGAAACUUCGGCUGAUUGCACUCGUGAUGGAUUAGAUAGUCACUUAUAUGUCAGCUGUAUGAGUUGCCUAACACUUCUACCCGCUUUUUCCCUGGAUUUCCUGAACGCCGGCUUUUCAUGUUGGGCUGCUCGCUUUCAGGUUCACCCCGCGCCGCUCUAUAGAUCAAACAAGUCUGCCGUUGGUGCGAUAACUCACAUUGGGAAGUAUGGUGCACACCCUACGAUAGUACUCACGGAACAGAGUAUUCCGCACCACAAUUCUGUUCUUAAUGCUGGCCCAUGCAUAAAAGCAGUGUUCGAGGUGUCUCACGGACGCGUCUGUACGUUCUGGCCUCAGCCUGGCGAAUGUCGAGACUUUCACACAGUCGCGUCCGCUGAUUUUAACUCGGGGUCGAGGUCAAGCUUGCACACAUUUGAUACGGUUCUUCUGAAUUGGCGUGACGGUACACUAUUGAGACCGAAUGUAUUAUACUCAACUUUGUACACCAUGACUACGGCAUCCCACGGUAUUGACCAAUUUGUAUUCGAUCUUGGGCCUAACGUUGUCCCCUCUAGGUGUUUGGGUAAUGUUUCCGUGAACAUGGGGGGUGCGGAUCGGCUUAAUUGGUAUAAAGCGCGCGACUCAAAUAACCCCGCUGCUCAACUCAUAAUAGUUCACCCUCUACUAACCCAUGAAAACUUCGUUUCUUACAAGACCGUUUGUCUGAAGGUACUACUAGCAGGUAGAGUCUGGUCACUUAGUUACAAUAGUGAGUCUAAGGGAGUCGGGUCCCCGUUCAGAUCUGGACACUAUGAUGUUCGCGCAUGUCCCCGACCUUAUGCAGAUGUUGGUAUAGUAUCGGUUGGUCGAACAAUCUCAAUAAACGCCCCGGGCGAUAAAGAACUCCCGCACAACAGUCCGCCUCAGGAAGCCGUACAUGAUCCAAGCUUGCGUGUGAAACCAUAUAUGGAAUUUACGUGCUCGUCCUUAAAGAAAAAAGCGAUGUGCUUAACAAAACUAGGUGCAACUCCGCUAAUGCGGUGCGAGCUUCAACCCGGAGCUUGGAGGUCGGGAGUCUUGUUUCGUAUUUCUGCUAAAUCCAGAACCACUAUGCUUCUAGAGGUUACAGAAGCUAGUAUGCCGGCUUCCAGCGGCCCAACUUCUCGGUCGUAUUGUAAAACGGAUGAUAUUGUCCAUUUAGCGUUGCCAACACCACUGAGCCUGCUACUCGAUUGGGGAACAGGAACACUACUAUUUCUCGCGAAAUGUACGGGCCUCAACCUCCCAAAGCCUGGUACUAUGGUCUGCCUACAGCGCGGUGGAGGGCUUAUGUCCGGCCUGGGCGCUCUAGGCCAGUCGAUUCGCUGGCAAGGGAAUUCUGCUGAAAUCCGAUUCGAAGCCGCUAAUAUGUGUAAUACGCUACAGCAUGGAAUUGGGUCUGUCACGCUUCAUGGACAACCAGCUCUCCAAGAAAACCUUUACACGCAAACCUCCGACUCCUUGUAUAGAACGACAAAGGGGCUUUACCAAAAAUUUCGAUGGUCUUUGUACCGAAUAUUCUCCAGUAGAGUUCGCUUCAUCGCGCUACGCCAACUGCAUUAUCGCCAGUCCGUACGCGACAUACUAGAAGCAAGCGGAACGUGCCCGAGUUGGGCAAACCCGUAUCUUCCGGAACGGUUUAUUUGCAACUUCCAAUGUAAGUUCGUUACGCACCUCUCUUGUACAGGUACUUCUCCAGGGACCCCGCGGCAACAGCGUAACGUCGGCUUGACGCGCAACACCAAAUACGUUUGGCUGGGGCAAUAUGAAAUGCCCACGAUCAUUCAGCCGCUACGCUUUGAUACUAAGCAUCGACGGCCCACCCAAGCUUAUCAGCCGCCUGGCUCAUCUGGAAGGGAGACUUUGCCUGUUGCUCAGUCCGCUGCCGCAAUGCUAUCGCAGUGUGAUAGAAGGACGAUGCAUUACGAACACCAACGACUCCUUCCGAGUGUGGGAGGCCCAGCUAACGUCGGAAAAUGUGGCUUCCGCCGCACGGAUGCAGGAACCGACGGUGGCUGUUGUAUGUCGGGUCGAGUCCAGCACCUGCCUCUAACAUUGGAGGCUAUGCCCAGAGGUUGGGUACUGCGCCGUGUGCAACGGGGCGCGAGGGUAUCGUAUAUUACGAACUUUACCAUGGUGCAAGUCUGCUCAUGCCUGAGCACUCGCAAGAGCAAAAGGUUAAAGGUUGAGCAUGCUUCACCGGUGAUAGAGAGAGGGCUUGAAAACGAAUCGCAAGUUCCCCGGCUGGAGUCUUCACCGCUGAAAAGAGAUAGGACAGCCAUGAAGAUGAGUCACUCCCUCUCGUGUGAGGCUACCCUGGCGACCGAAUGUCUGCUUAUCCCGAUGGACCCGUCCGCAGUUGGCCGAGCCAUUGUCGUGCUAAGCAAACACAGAGUUCCGGGUUUAGAUGAACACGCUGCUUACUUUCUUGCGCUGUGCGCGACGGACGCAGAAUUAUGCCAGAAUCCGCACCGAUCUUGUACGGGUCGUGAAGGGCUUUCUUGCAACGUAACGUAUUUCUUCACCACCCGUUUCUGUCAUGAACAGUUGGGACACGCUGCAGGGUAUGCGUCAGUUGACUCAUGGCAACGAAUCGGGGGCGUUUCUCCUAGUUUUGUCAUCUCGAUUGUACAUCGGAUGACGGAUCUAGCACAGGACAUGCGAUUUACAGGGACUAAGUUGUUUCCAGAGAUACGAGUGAAGGUUUCCGUCGGACGGUUCGUCAUGAGACGUGUUGCUUAUGGUAAAAUAGUCUUCCCGCGUUCGUACGCCAUCGUCGACAGUCGUUCGUCAAAGGUCUGCUGCCUGUCUGCACUUACCGUGUAUACUCUGCGACGUCUCGGGCAGUGUCACCGUGCGUCUCCUAGGGGUGCGUUCCAAACAAAACACCAGAAGACGUCUCAGACCUGUGUGGCUUUCUUAAUAGUACGCUAUAGCGAUUACUCUGCCUCAAUAGUAUCCGCCCAGCUAUCGCUUUUUAUCGGUAACCGAGAAUUCUACGUAGUUGGUGAAACCAACCUAGGUUUUCUGGUAAAGUGCCCAUCGCAAGUCGUCGAUACUAUAAUAAUACAUUGCGUGCAGGGCGGUGCACAUUUACACUCCAAGCGGAAGCGAGGGUCUACAUGGAGGUAUAAACAGAACCAAAUUAAAUUCGCCAAGCGCGCGUGUUGCCAGUCAUGUGGCAAAGAGACAUGCUCGACUGUGCUAAAUGAACGAACGGUCAGAGCGCCAUCUCGCUUACUCGUUUCCGACAACUGGAAAUCUGCCUUACGCAAUAGAUCUCGGCUUGGGACGAUCUAUCGAGUAUGUAGCAUCUAUGCACGGACUGAUAAUCCGACAUGUACUCAUCUGAGCAGAUGUAAAACUCAGAGUAGCGAGUCCGGCAAAAAUCGACCCCGUUACGGCUUUCUAGUUGUGAUGAAUAAGGUUCGCGUGACCUGUAGCCCAGACGUCUCCGAGAAUCAUAGGGUCUUCAACUCAGCUAAACUGCCAAGCCUCAAGUGUGCGGGACAAGAGCCCUUGAAGCAAGCAUCGUACCUCCCAAAAUGGCCCAAUUCUCAGGGCAAGUGGUACGAUGGCUGGCUAGUGAGGGCUAGUAGCUCCAAACGUAGUUGGAAUUGGAACGGGCUUUCACCCAUGUCCGUGGGCCUUUCGUCGAAGAACCUCAUCGUCUCUGUGACGCGGUUCUUACUCCAGCAUACGGUACGUCCCUUCAACAUGGGAUUUUCAAUACGGGGCUUCCGAGUCAGAUCGACCAUGGCAAUUGUCCGUAACAUCCGCUUGGCCGCAGUACUUUCCAGUGCCUAUGUUUCGUAUACAGGAGCUAGCGGGCAUUCCGCCUCUUUAAUACCAGUAUACGCUGACGACCUACCAUCCCGCAGGGAGUGUCCUCAUAGUGUAACAACCUACCAAAGAAGUUCACUGCCACCCAAUUGUGGGAGACCAAAGCGGAUACCUAUUCACCUUACCUACAGCCCGCUCCCUGGGAUUAAUCGCAGACUAUCGUGGGCUCCCUUGAGGGCUGCUAUGCCCCCUCGGUCAGUUAAAACCGAUGGUUCAAGACUGGGAAACCCCGGCCCUAUACUUCAUCCCUUCAGCGGUCAGAUGCACGGUCCGAACCUUCUACAUCUCUACUUCAUCGAUCACGAGCGUCUUGCGAGAUGUCGUAGCCUGAGACAGUUAUCAGCUCUGUGCAGUCGGAUCAAAAAUUUUCGUCGGCCGGCAAUUAGUUCUCCUUGGAAGAGUGAACAAUGUGCGUCAUGCUGUGCCAUUUAUACUCGCCAUACAGGUAGUGACGUGCGAGCUCACGAACUGAUCAACUAUGAGCUCCAACCAUGUUCACAAGCAGCGUUCGGGCCUACCGCAUAUGAGCACCAAAGGUCCACUAAGUAUCCGUUUGAGAGUGGCGUCUUCGGUUGUCGUUCUGCACAUAGCACUUCUGGGAGCGAUUUUCAGCUGAAAUGUCGUGGGGCAACUGCGCCAGUUCACAUCUAUCGGACCUAUCUUAAGCCCUAUCGAGGACCGCACAGGGGCAGUAGACCUAAACAUUGCCAAUUGGAGUGUGAAUAUCUUCACCUCAAUUGGGCUGGGGCUGUGUAUCGCUUACUGCAUGGCCGGAUAGGAAAAAAUGCCGUAAAUAUCAACCUUAACCGAAUCCUGGCGUGUAAACUGAUGGGGUUCAAGGAGGCACAGCUCUCAUUCCUUAGCUUAUGUCGGUCCCGACGAAAACGACCGUCCACCAACCACACGCGACUACAAGUUUCGGUCGGAUUGACCGGCAAUUGCGGUUACCAAUGCCUAUUGCCACAACAUAUAAAUCUACGCACAAAUAAGGUGAGCCGGGCUAAGAUAAGAGACAAAUGGCUUUAUUGCAUUUGGCCGUUUAAACACCAAAAAUGGCGAGGCAACGGGACUGCAUGUCGUGAUAGUAGAACUGCACUAUUACGAAAGUCCGCCACACCCCGGGCACUUCCACCUUCCCAGCACGUCCAAGAGAUCGCUCAAGUAUCCAUGCAGCGGGAUAAGUCAUGGAUAGGGCUGGAAAGAUUGCGGGAUAAGGCAAGCGCGCGAAAGACUGUGAGGUUGAAACUACAUUCUGAGAUUAAUGCACAACUAUGGGCCAAGACCUGUGGUAAACGAGUGAAGCCAACAGGUUCUAGAGCGCGUCUUGUCCACUGCGCCGCUCGAGGCGCAUCAGUGCCACGGAUCAUGCAAACCGGUCAAUUGAAGCACAGUACGGAAACAUACACAGCUCCUAAAGUCACUACUAGUAGACCCUUGCGAGGCUCUCGCGUACUUACCUCAUUCCGAUCAGAACUUAGUGCUACACUAGCCACCCCUAAAACCGCAAAUAACGCUAAGCGAUUCCCAUGCCCAGGGAUCGACCAUAUUGCCUUACGUUGCUACAACUUGACCAACGCGGGGCAACUUACUUCCGCAGAGACGCGCACUCGCGCCCUUGUCAGAGUUCGCCUUUGCUACGUUGUACUGUUCCCGGGUAGGGGAAGAACAACGAGAGUCUCCCAAGAUAAAAGCGACUCUUACGAUGGCCCUGUAGCACCCGAGCGGCGUAGAAGACGGCACCCGCAUACGCCCCAAUCUGCAUCUCCUAAGCAACACGCCUCACAUUCUCCUAGCAUCCGCAUCCAAGGAAGGAUGAUUUCGGUAAUGCGAGAAAGUUUCGGCUCUUGCAAGGGGGAUCGCGUUUCAAGUGGAUACUUAGACAUUCCCACCUGGGUCCAGCCCACUAGCAUUCUGCACCAUUUGCGUCUUGACUUCGGCCAUCCCGACUUAGACCCCUGCACGGGGCAAAAGCGGAUGAUGUCCCUAGCAGCCUCUAAAGCGUGCAGCAAGAAAACGGCGUUCCUACGGUCGGGUGGAUAUCCCGGGACCCGCCGGCAUGUGGGGUCGCUCCAGUAUAAGGAGAAUUCUCCCUGUCGAUACCGCAAUUCUUACGCACUGACGGAGCACGAACAUUCGCGUUACAAGGUAGUCCGGACUAAUUACGGCAGCUAUGAGCUCCAGACAAGGGGUGCUCUCACACCACAUCCGGGUGGAAUUAUAUGCCGCACAACAAGCCCCUUUUGUGUGACCCACUACAAGUUUUACUGGUCACAGCGCGCCCGGGCUACGGGCAAUUCUAUAUGUAAAGUAGGUGCUAUCUCCUAUCCAGCACGCGGUCGUAUCCGCUUGCUGUGUCCAAUCCUUAAAAGAAUAGUGAGGCCAAAAGCGGAUACACUAAGGGGAUGGCCGUUUAUCCUUCUGGACAUUUUGAUCCCCUCGCCUGCGUCCAGCAAUAUUCUAUCCACUUUUGCUUUAUGCCACUAUACAAGUCCCGGCGCUAAUGUUGCCAGUUUCAAGGAUUCUGUGGUCCCAUGGCUCAAGUCGGUAGGGUUGGCAAGGUUCGUGUGGCCUCGGCUAAUUCGCCACUUACACGAAUGUAUUUUGAUUGGUUGUAUCCUGCAACUCAAAGGGUGCAGUCGUGGGGUUAUAUGUGUCGAGGAGAGCCGACUCCAUUCCACAGUCAGAAUGACGAAGCAUCCUCAGUUCAUUUGGUCGACGCGACUUGCGAUAUUUUAUAAUGGGGCUACUCUUGGUAACAUGAACUCUGUUGAUUUCGCGAUCUACGCGUUAGGCGAAAUGGGUUUGCGAGCUAUUUCUCCCCUUGAAGUCUUUCAGGCUGUACCCUACCACCUGGCCCAUUCGCAACCUAAGCAUUUGCAUAUCCCCGCCUAUGGGAAGUUAUCAAUCUAUGCUAUGGAUGCCGGUUUUUCAUGGAGGCAUGGCUCUAGGCUCCUUUUUAAUGGGUUUCGAGGCGUCGCACGGAUCGAAGACACUCCGAGCUCGAAGACUGCUCUGGUUUCGCUCUGGAAUAGUCCCGCAGGAGCAUGUACAUGUCAAUUUCCAGUUGUGAGGUUAGGCGUGAGUCAUCGGUUAGUUCCCGAAUAUAUAAUGCUUACGUUGACGGCCUCCACCUUGCCACGGGUCAUUGGUCUUUGCGAAAUUAUCGCCGUCCACUACUAUAGGUUCGCUGACAAAACUACACUAUCUUCGAAUCAUGUACACCGGCGGGGUGGUACAGCGAAGCUUCUACUGGGUAAACUCUUAGAGUGCCCAUCGAAGUUAUUCUCGAGAGGGCCGUUAGUUGGAAUUUUUGUCUGCGUUCCGCCGCCUGCAUUGUUGCCCCCCAAUCCGGGUGCGGAAUCGGUAGCGGAACGUGCCCUUCUGGCGUCCCCAGCUUCUGCCCGAGGAUGCGUGACGACCGCUCCGGUGUCUGUGAGGGCUCAACUCACCUACCCGAGCUCUAGUUACAGAGUCAGAUGUGGAUCUACCGUGAGCUUUCCUGGGAGGGUUUUCGGGAUAAAUAUAGUUGCCGAUGGCCCCAAAAUGCCAUACUUCAAUAAAGGGUCUCCCCCCGAGACCCUAGGACUCCAGUACGAAUGGGCUAGUGCAGUGACACCAGGUAACUCCGGAGUCCGAAAAUGGAGACCGGGCAAUCAAUUUGUUCGUCGCAGCAGUUGGUGGGAUAGACAUUGUUCCCAACUAACACUCUUUUUACUUGGAUGGUCCGGAGACCAACGGGCGAUUCAUAACGUUUCGCAUCUGGCGGGGACUGACCCCGUUUUGCGAUAUACGGAGCCAUCUCUCAUGAUAGCGACUGGAUCCGGAGAAACCUCUAUCGGCGGCUCAGUCCUUUACCUGGCCCAUGUGCGUGUGUUUCCAUCCAGAUAUGUUCUUAACGCGAGGUGUAAGGCGCAAUUGGAACACAAAAAGAGAACCGACAUGUACCACACGAGAUCACCCGUCAUGAAUCCAUCGGUCGGCUCGGCGAAUGUAGUAAGAUCUCGCAAAUUCUAUGGCACAAGCAAUCAUGAUGGGAGAGGAGACUGGGCCGCGACAUUUGAAUAUGAUUGUCCCGGCCGUCCUGAACAAGGUGACGGACAACCUCAGCCGACGGCCUAUAUCUUGCCCCGCCCAACCAGGGGUAUCCAUAAACCGGGAGCGAGUGUCGCUAUCGAUGAAAUAAGUGGAUUUGCGCCUUGGUCUGCGAGCAGAUUUUGUGAUCUGCUGUGGGAGGGAAGUCCAUUACCGUUACUAUAUACGUUCACACCUGACCACAUCCGUAUCAUUUCGAACUUUCCAUUUUACAGUGCAAGUAUGGGUGCAAAGUCCCGUCGAAACGAGCGUCCCAGCCUUCCCUCCUGCGAAGAGGGGUUAUUCCUCUCAGUACCAUCCGUAGACUUGUUCCCCCACGAACUUCGAUGGACCCCUUUAUUGUGGAUUAAGGCAAGUUUCCAGUGGUGUCUUCGUCUUGCUUUUUCAUUUUCCUUGUGUUAUCCACGGGUUGGACACGCUCCCUUGAGGGGUCCCGAAGGGAGAGAGUUUCGACUCCCCAAGGAUCAUGGGGUUCAUUCUCCGUUCCAUCUAUUAGGUGAAUGGACGUCAGCGUGCGCCAUCCUCGCCGCGAGGAACAUUAGGGACUGGCGUCCCCAGCAUUCAACCUCACUCAUACACAUAAGGGGUGCGAGACUUAAAUUACGCGAGACGCGCCCUCUGUGUACAAAUCCUUCUCGCCCUCUGACCUAUAAUAUCGCAUCCGCCAUCCCGGAGCCCUUGGCCUCGAGUAACCAUAACGAGUUCAGUAAUCUAAUUCGUCAAACGUACGGCGGUAGAGAGUCGCACGAGUUCAAACGGCAAACAGAGCACAAAGAACUAGUUCUGCGAAGUCCCAUUUCUUACGCUGUACGUUCACUCAUGGUAGACACAACCGCUUUCUGUUAUCACGCUCUUCCGGGGUGUACUGACGCCACAAUUUGA\n",
            "MYSVLLVLLGASYSQVSKIHKVSSIWYLRSGLPELRSLITRLVNPDCHSGAEQQAYSQISPSWLRIDPSSACAFYNAAATRERASHNTQGAPYAETDSSLWMRFSHSPLSPCSSQGRIMSHVVGDLPLMRQASSSAPSELYQHYMIPVSGNVSAAHTGCFVQNVPTPTAGNTDRSMTPLLAKFGQRLIKGYPYRLQTGQFPSLRIYFTSAGERQGLWENLATLISTQPKFKSKSGLRILGVRETSADCTRDGLDSHLYVSCMSCLTLLPAFSLDFLNAGFSCWAARFQVHPAPLYRSNKSAVGAITHIGKYGAHPTIVLTEQSIPHHNSVLNAGPCIKAVFEVSHGRVCTFWPQPGECRDFHTVASADFNSGSRSSLHTFDTVLLNWRDGTLLRPNVLYSTLYTMTTASHGIDQFVFDLGPNVVPSRCLGNVSVNMGGADRLNWYKARDSNNPAAQLIIVHPLLTHENFVSYKTVCLKVLLAGRVWSLSYNSESKGVGSPFRSGHYDVRACPRPYADVGIVSVGRTISINAPGDKELPHNSPPQEAVHDPSLRVKPYMEFTCSSLKKKAMCLTKLGATPLMRCELQPGAWRSGVLFRISAKSRTTMLLEVTEASMPASSGPTSRSYCKTDDIVHLALPTPLSLLLDWGTGTLLFLAKCTGLNLPKPGTMVCLQRGGGLMSGLGALGQSIRWQGNSAEIRFEAANMCNTLQHGIGSVTLHGQPALQENLYTQTSDSLYRTTKGLYQKFRWSLYRIFSSRVRFIALRQLHYRQSVRDILEASGTCPSWANPYLPERFICNFQCKFVTHLSCTGTSPGTPRQQRNVGLTRNTKYVWLGQYEMPTIIQPLRFDTKHRRPTQAYQPPGSSGRETLPVAQSAAAMLSQCDRRTMHYEHQRLLPSVGGPANVGKCGFRRTDAGTDGGCCMSGRVQHLPLTLEAMPRGWVLRRVQRGARVSYITNFTMVQVCSCLSTRKSKRLKVEHASPVIERGLENESQVPRLESSPLKRDRTAMKMSHSLSCEATLATECLLIPMDPSAVGRAIVVLSKHRVPGLDEHAAYFLALCATDAELCQNPHRSCTGREGLSCNVTYFFTTRFCHEQLGHAAGYASVDSWQRIGGVSPSFVISIVHRMTDLAQDMRFTGTKLFPEIRVKVSVGRFVMRRVAYGKIVFPRSYAIVDSRSSKVCCLSALTVYTLRRLGQCHRASPRGAFQTKHQKTSQTCVAFLIVRYSDYSASIVSAQLSLFIGNREFYVVGETNLGFLVKCPSQVVDTIIIHCVQGGAHLHSKRKRGSTWRYKQNQIKFAKRACCQSCGKETCSTVLNERTVRAPSRLLVSDNWKSALRNRSRLGTIYRVCSIYARTDNPTCTHLSRCKTQSSESGKNRPRYGFLVVMNKVRVTCSPDVSENHRVFNSAKLPSLKCAGQEPLKQASYLPKWPNSQGKWYDGWLVRASSSKRSWNWNGLSPMSVGLSSKNLIVSVTRFLLQHTVRPFNMGFSIRGFRVRSTMAIVRNIRLAAVLSSAYVSYTGASGHSASLIPVYADDLPSRRECPHSVTTYQRSSLPPNCGRPKRIPIHLTYSPLPGINRRLSWAPLRAAMPPRSVKTDGSRLGNPGPILHPFSGQMHGPNLLHLYFIDHERLARCRSLRQLSALCSRIKNFRRPAISSPWKSEQCASCCAIYTRHTGSDVRAHELINYELQPCSQAAFGPTAYEHQRSTKYPFESGVFGCRSAHSTSGSDFQLKCRGATAPVHIYRTYLKPYRGPHRGSRPKHCQLECEYLHLNWAGAVYRLLHGRIGKNAVNINLNRILACKLMGFKEAQLSFLSLCRSRRKRPSTNHTRLQVSVGLTGNCGYQCLLPQHINLRTNKVSRAKIRDKWLYCIWPFKHQKWRGNGTACRDSRTALLRKSATPRALPPSQHVQEIAQVSMQRDKSWIGLERLRDKASARKTVRLKLHSEINAQLWAKTCGKRVKPTGSRARLVHCAARGASVPRIMQTGQLKHSTETYTAPKVTTSRPLRGSRVLTSFRSELSATLATPKTANNAKRFPCPGIDHIALRCYNLTNAGQLTSAETRTRALVRVRLCYVVLFPGRGRTTRVSQDKSDSYDGPVAPERRRRRHPHTPQSASPKQHASHSPSIRIQGRMISVMRESFGSCKGDRVSSGYLDIPTWVQPTSILHHLRLDFGHPDLDPCTGQKRMMSLAASKACSKKTAFLRSGGYPGTRRHVGSLQYKENSPCRYRNSYALTEHEHSRYKVVRTNYGSYELQTRGALTPHPGGIICRTTSPFCVTHYKFYWSQRARATGNSICKVGAISYPARGRIRLLCPILKRIVRPKADTLRGWPFILLDILIPSPASSNILSTFALCHYTSPGANVASFKDSVVPWLKSVGLARFVWPRLIRHLHECILIGCILQLKGCSRGVICVEESRLHSTVRMTKHPQFIWSTRLAIFYNGATLGNMNSVDFAIYALGEMGLRAISPLEVFQAVPYHLAHSQPKHLHIPAYGKLSIYAMDAGFSWRHGSRLLFNGFRGVARIEDTPSSKTALVSLWNSPAGACTCQFPVVRLGVSHRLVPEYIMLTLTASTLPRVIGLCEIIAVHYYRFADKTTLSSNHVHRRGGTAKLLLGKLLECPSKLFSRGPLVGIFVCVPPPALLPPNPGAESVAERALLASPASARGCVTTAPVSVRAQLTYPSSSYRVRCGSTVSFPGRVFGINIVADGPKMPYFNKGSPPETLGLQYEWASAVTPGNSGVRKWRPGNQFVRRSSWWDRHCSQLTLFLLGWSGDQRAIHNVSHLAGTDPVLRYTEPSLMIATGSGETSIGGSVLYLAHVRVFPSRYVLNARCKAQLEHKKRTDMYHTRSPVMNPSVGSANVVRSRKFYGTSNHDGRGDWAATFEYDCPGRPEQGDGQPQPTAYILPRPTRGIHKPGASVAIDEISGFAPWSASRFCDLLWEGSPLPLLYTFTPDHIRIISNFPFYSASMGAKSRRNERPSLPSCEEGLFLSVPSVDLFPHELRWTPLLWIKASFQWCLRLAFSFSLCYPRVGHAPLRGPEGREFRLPKDHGVHSPFHLLGEWTSACAILAARNIRDWRPQHSTSLIHIRGARLKLRETRPLCTNPSRPLTYNIASAIPEPLASSNHNEFSNLIRQTYGGRESHEFKRQTEHKELVLRSPISYAVRSLMVDTTAFCYHALPGCTDATI\n"
          ]
        }
      ]
    },
    {
      "cell_type": "markdown",
      "source": [
        "####**<font color=crimson>TASK 21.3 Commit to GitHub**</font>"
      ],
      "metadata": {
        "id": "dvtR4N7L6sZ_"
      }
    },
    {
      "cell_type": "markdown",
      "source": [
        "#<font color=blue>**P22.**</font> SeqIO – a function to parse( ) sequence files"
      ],
      "metadata": {
        "id": "bDJqtRiX3fEG"
      }
    },
    {
      "cell_type": "markdown",
      "source": [
        "####**TASK BP 22.1** Read in the practice dataset from Rosalind #9 and print the id of each sequence in the file."
      ],
      "metadata": {
        "id": "VKyMhLjx7nIo"
      }
    },
    {
      "cell_type": "code",
      "source": [
        "from Bio.SeqIO import parse\n",
        "\n",
        "for seq_record in parse(\"practice_9.txt\", \"fasta\"):\n",
        "    print (seq_record.id)\n",
        "    print (seq_record.seq)\n",
        "    print (len(seq_record.seq))\n",
        "    print (seq_record)"
      ],
      "metadata": {
        "colab": {
          "base_uri": "https://localhost:8080/"
        },
        "id": "xUi3JEoh7yJ6",
        "outputId": "0268cd9f-2c8c-4763-d3bd-02d54c9b0afd"
      },
      "execution_count": null,
      "outputs": [
        {
          "output_type": "stream",
          "name": "stdout",
          "text": [
            "Rosalind_6404\n",
            "CCTGCGGAAGATCGGCACTAGAATAGCCAGAACCGTTTCTCTGAGGCTTCCGGCCTTCCCTCCCACTAATAATTCTGAGG\n",
            "80\n",
            "ID: Rosalind_6404\n",
            "Name: Rosalind_6404\n",
            "Description: Rosalind_6404\n",
            "Number of features: 0\n",
            "Seq('CCTGCGGAAGATCGGCACTAGAATAGCCAGAACCGTTTCTCTGAGGCTTCCGGC...AGG')\n",
            "Rosalind_5959\n",
            "CCATCGGTAGCGCATCCTTAGTCCAATTAAGTCCCTATCCAGGCGCTCCGCCGAAGGTCTATATCCATTTGTCAGCAGACACGC\n",
            "84\n",
            "ID: Rosalind_5959\n",
            "Name: Rosalind_5959\n",
            "Description: Rosalind_5959\n",
            "Number of features: 0\n",
            "Seq('CCATCGGTAGCGCATCCTTAGTCCAATTAAGTCCCTATCCAGGCGCTCCGCCGA...CGC')\n",
            "Rosalind_0808\n",
            "CCACCCTCGTGGTATGGCTAGGCATTCAGGAACCGGAGAACGCTTCAGACCAGCCCGGACTGGGAACCTGCGGGCAGTAGGTGGAAT\n",
            "87\n",
            "ID: Rosalind_0808\n",
            "Name: Rosalind_0808\n",
            "Description: Rosalind_0808\n",
            "Number of features: 0\n",
            "Seq('CCACCCTCGTGGTATGGCTAGGCATTCAGGAACCGGAGAACGCTTCAGACCAGC...AAT')\n"
          ]
        }
      ]
    },
    {
      "cell_type": "markdown",
      "source": [
        "#<font color=blue>**P23.**</font> SeqUtils.gc_fraction( ) – a function to compute GC content"
      ],
      "metadata": {
        "id": "SAjUYBpe3pwi"
      }
    },
    {
      "cell_type": "markdown",
      "source": [
        "####**TASK P23.1** Modify the script from TASK P22.1 so that it prints the GC content for each sequence in the file"
      ],
      "metadata": {
        "id": "kEjUu8HfHniC"
      }
    },
    {
      "cell_type": "markdown",
      "source": [
        "####**TASK P23.2** <font color=orange> **Complete Rosalind #9  Computing GC Content**</font>"
      ],
      "metadata": {
        "id": "nJeXcQR7HwOf"
      }
    },
    {
      "cell_type": "code",
      "source": [
        "\n",
        "# Function to calculate GC-content\n",
        "def calculate_gc_content(dna_string):\n",
        "    \"\"\"Calculates the GC-content percentage of a DNA string.\"\"\"\n",
        "    gc_count = 0\n",
        "    total_length = len(dna_string)\n",
        "\n",
        "    # Handle the case of an empty string to avoid division by zero.\n",
        "    if total_length == 0:\n",
        "        return 0.0\n",
        "\n",
        "    for nucleotide in dna_string:\n",
        "        if nucleotide == 'G' or nucleotide == 'C':\n",
        "            gc_count += 1\n",
        "\n",
        "    return (gc_count / total_length) * 100\n",
        "\n",
        "# Open the input file and read its contents.\n",
        "# We'll use a 'with' statement for safe file handling.\n",
        "try:\n",
        "    with open('rosalind_gc.txt', 'r') as infile:\n",
        "        lines = infile.readlines()\n",
        "except FileNotFoundError:\n",
        "    print(\"Error: The file 'rosalind_gc.txt' was not found.\")\n",
        "    exit()\n",
        "\n",
        "# Dictionaries are excellent for storing key-value pairs. Here, we'll store\n",
        "# the FASTA ID as the key and the DNA string as the value.\n",
        "fasta_sequences = {}\n",
        "current_id = \"\"\n",
        "current_sequence = \"\"\n",
        "\n",
        "# Parse the FASTA file line by line.\n",
        "for line in lines:\n",
        "    line = line.strip()\n",
        "    if line.startswith('>'):\n",
        "        # If we encounter a new ID, we process the previous sequence (if any).\n",
        "        if current_id:\n",
        "            fasta_sequences[current_id] = current_sequence\n",
        "\n",
        "        # Reset for the new sequence.\n",
        "        current_id = line[1:]\n",
        "        current_sequence = \"\"\n",
        "    else:\n",
        "        # Append the DNA line to the current sequence string.\n",
        "        current_sequence += line\n",
        "\n",
        "# Don't forget to add the last sequence after the loop finishes.\n",
        "if current_id:\n",
        "    fasta_sequences[current_id] = current_sequence\n",
        "\n",
        "# Variables to track the highest GC-content and its corresponding ID.\n",
        "highest_gc_content = -1.0\n",
        "highest_gc_id = \"\"\n",
        "\n",
        "# Iterate through the dictionary to find the highest GC-content.\n",
        "for seq_id, seq in fasta_sequences.items():\n",
        "    gc_content = calculate_gc_content(seq)\n",
        "\n",
        "    if gc_content > highest_gc_content:\n",
        "        highest_gc_content = gc_content\n",
        "        highest_gc_id = seq_id\n",
        "\n",
        "# Write the result to the output file.\n",
        "with open('outputgc.txt', 'w') as outfile:\n",
        "    outfile.write(f\"{highest_gc_id}\\n\")\n",
        "    outfile.write(f\"{highest_gc_content:.6f}\\n\") # Format to 6 decimal places for precision.\n",
        "\n",
        "print(f\"Results have been written to 'outputgc.txt'. The highest GC-content belongs to: {highest_gc_id}\")"
      ],
      "metadata": {
        "id": "dozrQ-a-IwqI",
        "outputId": "ee683983-7d15-447d-9b43-194a6631bcb0",
        "colab": {
          "base_uri": "https://localhost:8080/"
        }
      },
      "execution_count": null,
      "outputs": [
        {
          "output_type": "stream",
          "name": "stdout",
          "text": [
            "Results have been written to 'outputgc.txt'. The highest GC-content belongs to: Rosalind_3927\n"
          ]
        }
      ]
    },
    {
      "cell_type": "markdown",
      "source": [
        "####**<font color=crimson>TASK 23.3 Commit to GitHub**</font>"
      ],
      "metadata": {
        "id": "gavUUL39INzP"
      }
    },
    {
      "cell_type": "markdown",
      "source": [],
      "metadata": {
        "id": "Zf_OZq9R0dnq"
      }
    }
  ]
}