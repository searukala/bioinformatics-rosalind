{
  "nbformat": 4,
  "nbformat_minor": 0,
  "metadata": {
    "colab": {
      "provenance": [],
      "authorship_tag": "ABX9TyMheyKXpdzMe0NsW13yX5Ek",
      "include_colab_link": true
    },
    "kernelspec": {
      "name": "python3",
      "display_name": "Python 3"
    },
    "language_info": {
      "name": "python"
    }
  },
  "cells": [
    {
      "cell_type": "markdown",
      "metadata": {
        "id": "view-in-github",
        "colab_type": "text"
      },
      "source": [
        "<a href=\"https://colab.research.google.com/github/searukala/bioinformatics-rosalind/blob/main/notebooks/Bioinformatics_Module03.ipynb\" target=\"_parent\"><img src=\"https://colab.research.google.com/assets/colab-badge.svg\" alt=\"Open In Colab\"/></a>"
      ]
    },
    {
      "cell_type": "code",
      "execution_count": 1,
      "metadata": {
        "colab": {
          "base_uri": "https://localhost:8080/"
        },
        "id": "noT3DtLu2kzl",
        "outputId": "bbf40a95-9373-416d-a96e-dc3ad6095d08"
      },
      "outputs": [
        {
          "output_type": "stream",
          "name": "stdout",
          "text": [
            "hello world\n"
          ]
        }
      ],
      "source": [
        "# P1. First notebook cell\n",
        "print(\"hello world\")\n"
      ]
    },
    {
      "cell_type": "code",
      "source": [
        "# P3. Assignment examples\n",
        "x = 5\n",
        "y = \"5\"\n",
        "z = 5.0\n",
        "\n",
        "print(\"x =\", x, \"type:\", type(x))\n",
        "print(\"y =\", y, \"type:\", type(y))\n",
        "print(\"z =\", z, \"type:\", type(z))\n"
      ],
      "metadata": {
        "colab": {
          "base_uri": "https://localhost:8080/"
        },
        "id": "ALdCd3xd3BRE",
        "outputId": "362fd78b-1bcb-4cfe-e2a2-375a9dffbcae"
      },
      "execution_count": 2,
      "outputs": [
        {
          "output_type": "stream",
          "name": "stdout",
          "text": [
            "x = 5 type: <class 'int'>\n",
            "y = 5 type: <class 'str'>\n",
            "z = 5.0 type: <class 'float'>\n"
          ]
        }
      ]
    },
    {
      "cell_type": "code",
      "source": [
        "# P5. Arithmetic and comparison operators\n",
        "a = 5\n",
        "b = 2\n",
        "\n",
        "print(\"a + b =\", a + b)\n",
        "print(\"a - b =\", a - b)\n",
        "print(\"a * b =\", a * b)\n",
        "print(\"a / b =\", a / b)\n",
        "print(\"a % b =\", a % b)\n",
        "print(\"a ** b =\", a ** b)\n",
        "\n",
        "print(\"a == b ?\", a == b)\n",
        "print(\"a != b ?\", a != b)\n",
        "print(\"a > b ?\", a > b)\n",
        "print(\"a < b ?\", a < b)\n",
        "print(\"a >= b ?\", a >= b)\n",
        "print(\"a <= b ?\", a <= b)\n"
      ],
      "metadata": {
        "colab": {
          "base_uri": "https://localhost:8080/"
        },
        "id": "TQ742VeG3DFv",
        "outputId": "861159ea-54bf-4e4c-b4e9-9d61cb005f83"
      },
      "execution_count": 3,
      "outputs": [
        {
          "output_type": "stream",
          "name": "stdout",
          "text": [
            "a + b = 7\n",
            "a - b = 3\n",
            "a * b = 10\n",
            "a / b = 2.5\n",
            "a % b = 1\n",
            "a ** b = 25\n",
            "a == b ? False\n",
            "a != b ? True\n",
            "a > b ? True\n",
            "a < b ? False\n",
            "a >= b ? True\n",
            "a <= b ? False\n"
          ]
        }
      ]
    },
    {
      "cell_type": "code",
      "source": [
        "# P6.1 Hello user\n",
        "name = input(\"Enter your name: \")\n",
        "print(\"Hello\", name)\n",
        "\n",
        "# P6.2 Hypotenuse (Rosalind #1 style)\n",
        "a = int(input(\"Enter side a: \"))\n",
        "b = int(input(\"Enter side b: \"))\n",
        "hypotenuse = (a**2 + b**2) ** 0.5\n",
        "print(\"Hypotenuse =\", hypotenuse)\n"
      ],
      "metadata": {
        "colab": {
          "base_uri": "https://localhost:8080/"
        },
        "id": "h7A4DuRg3FvQ",
        "outputId": "15c1508f-5824-4e75-dac5-f59c63f541ff"
      },
      "execution_count": 4,
      "outputs": [
        {
          "output_type": "stream",
          "name": "stdout",
          "text": [
            "Enter your name: shravan\n",
            "Hello shravan\n",
            "Enter side a: 5\n",
            "Enter side b: 5\n",
            "Hypotenuse = 7.0710678118654755\n"
          ]
        }
      ]
    },
    {
      "cell_type": "code",
      "source": [
        "# P7.1 Create and index a list\n",
        "my_list = [\"Hello\", \"World\", \"Charles Darwin\"]\n",
        "print(my_list[1])   # World\n",
        "\n",
        "# P7.2 Replace an item\n",
        "my_list[2] = \"Alfred R. Wallace\"\n",
        "print(my_list)\n",
        "\n",
        "# P7.3 Append an item\n",
        "my_list.append(\"Charles Darwin\")\n",
        "print(my_list)\n",
        "\n",
        "# P7.4 Insert item at index 1\n",
        "my_list.insert(1, \"Inserted item\")\n",
        "print(my_list)\n"
      ],
      "metadata": {
        "colab": {
          "base_uri": "https://localhost:8080/"
        },
        "id": "13tzYsb33Of-",
        "outputId": "ad999fa9-88e4-4a59-d046-f8a9e4a39df9"
      },
      "execution_count": 5,
      "outputs": [
        {
          "output_type": "stream",
          "name": "stdout",
          "text": [
            "World\n",
            "['Hello', 'World', 'Alfred R. Wallace']\n",
            "['Hello', 'World', 'Alfred R. Wallace', 'Charles Darwin']\n",
            "['Hello', 'Inserted item', 'World', 'Alfred R. Wallace', 'Charles Darwin']\n"
          ]
        }
      ]
    },
    {
      "cell_type": "code",
      "source": [
        "# P8.1 List slicing\n",
        "my_list = [\"Hello\", \"Inserted item\", \"World\", \"Alfred R. Wallace\", \"Charles Darwin\"]\n",
        "print(my_list[2:4])  # World, Alfred R. Wallace\n",
        "\n",
        "# P8.2 String slicing\n",
        "my_string = \"HelloWorldCharlesDarwinAlfred R. Wallace\"\n",
        "print(my_string[0:5], my_string[5:10])   # Hello World\n",
        "print(my_string[33:40], my_string[5:10]) # Wallace World\n"
      ],
      "metadata": {
        "colab": {
          "base_uri": "https://localhost:8080/"
        },
        "id": "5lHNBQuk3S38",
        "outputId": "cb864d1f-6325-417d-8895-7dc8c7269265"
      },
      "execution_count": 6,
      "outputs": [
        {
          "output_type": "stream",
          "name": "stdout",
          "text": [
            "['World', 'Alfred R. Wallace']\n",
            "Hello World\n",
            "Wallace World\n"
          ]
        }
      ]
    },
    {
      "cell_type": "code",
      "source": [
        "# P9.1 Add if equal, subtract if different\n",
        "a = int(input(\"Enter first number: \"))\n",
        "b = int(input(\"Enter second number: \"))\n",
        "\n",
        "if a == b:\n",
        "    print(\"Result =\", a + b)\n",
        "else:\n",
        "    print(\"Result =\", a - b)\n"
      ],
      "metadata": {
        "colab": {
          "base_uri": "https://localhost:8080/"
        },
        "id": "2Meil4_z3VBi",
        "outputId": "149491f7-163b-41e4-9d2a-464fd08a1945"
      },
      "execution_count": 7,
      "outputs": [
        {
          "output_type": "stream",
          "name": "stdout",
          "text": [
            "Enter first number: 5\n",
            "Enter second number: 9\n",
            "Result = -4\n"
          ]
        }
      ]
    },
    {
      "cell_type": "code",
      "source": [
        "# P10.1 While loop runs 3 times\n",
        "a = 1\n",
        "while a <= 3:\n",
        "    print(\"Counting!\")\n",
        "    a += 1\n"
      ],
      "metadata": {
        "colab": {
          "base_uri": "https://localhost:8080/"
        },
        "id": "xhqBG1an3X58",
        "outputId": "68f14c6a-603d-488f-fb4b-fce7dd910b54"
      },
      "execution_count": 8,
      "outputs": [
        {
          "output_type": "stream",
          "name": "stdout",
          "text": [
            "Counting!\n",
            "Counting!\n",
            "Counting!\n"
          ]
        }
      ]
    },
    {
      "cell_type": "code",
      "source": [
        "# P11.1 For loop over a list\n",
        "names = [\"Alice\", \"Bob\", \"Charlie\"]\n",
        "for name in names:\n",
        "    print(\"Hello\", name)\n"
      ],
      "metadata": {
        "colab": {
          "base_uri": "https://localhost:8080/"
        },
        "id": "wF7gPGJQ3bR2",
        "outputId": "ef698721-fa46-41cd-f18f-313f23d34ad2"
      },
      "execution_count": 9,
      "outputs": [
        {
          "output_type": "stream",
          "name": "stdout",
          "text": [
            "Hello Alice\n",
            "Hello Bob\n",
            "Hello Charlie\n"
          ]
        }
      ]
    },
    {
      "cell_type": "code",
      "source": [
        "# P12.1 Run 10 iterations\n",
        "iterations = 10\n",
        "for number in range(iterations):\n",
        "    print(number)\n",
        "\n",
        "# P12.2 Print every 3rd number from 9 through 27\n",
        "for number in range(9, 28, 3):\n",
        "    print(number)\n"
      ],
      "metadata": {
        "colab": {
          "base_uri": "https://localhost:8080/"
        },
        "id": "LAcCDTJL3d66",
        "outputId": "59cdc6d0-c401-4e56-e987-9b0d85bb801e"
      },
      "execution_count": 10,
      "outputs": [
        {
          "output_type": "stream",
          "name": "stdout",
          "text": [
            "0\n",
            "1\n",
            "2\n",
            "3\n",
            "4\n",
            "5\n",
            "6\n",
            "7\n",
            "8\n",
            "9\n",
            "9\n",
            "12\n",
            "15\n",
            "18\n",
            "21\n",
            "24\n",
            "27\n"
          ]
        }
      ]
    },
    {
      "cell_type": "code",
      "source": [
        "# P13.1 Read file content\n",
        "# Create a file in Colab (practice.txt)\n",
        "with open(\"practice.txt\", \"w\") as f:\n",
        "    f.write(\"Bravely bold Sir Robin\\n\")\n",
        "    f.write(\"Rode forth from Camelot\\n\")\n",
        "    f.write(\"He was not afraid to die\\n\")\n",
        "# P13.1 Read the whole file\n",
        "with open(\"practice.txt\", \"r\") as data:\n",
        "    print(data.read())\n",
        "\n",
        "with open(\"practice.txt\", \"r\") as data:\n",
        "    print(data.read())\n",
        "\n",
        "# P13.2 Readline & readlines\n",
        "with open(\"practice.txt\", \"r\") as data:\n",
        "    print(data.readline())\n",
        "with open(\"practice.txt\", \"r\") as data:\n",
        "    print(data.readlines())\n"
      ],
      "metadata": {
        "colab": {
          "base_uri": "https://localhost:8080/"
        },
        "id": "f_v960TM3fpR",
        "outputId": "9379b3ba-1f14-4bba-c680-4853588cf615"
      },
      "execution_count": 12,
      "outputs": [
        {
          "output_type": "stream",
          "name": "stdout",
          "text": [
            "Bravely bold Sir Robin\n",
            "Rode forth from Camelot\n",
            "He was not afraid to die\n",
            "\n",
            "Bravely bold Sir Robin\n",
            "Rode forth from Camelot\n",
            "He was not afraid to die\n",
            "\n",
            "Bravely bold Sir Robin\n",
            "\n",
            "['Bravely bold Sir Robin\\n', 'Rode forth from Camelot\\n', 'He was not afraid to die\\n']\n"
          ]
        }
      ]
    },
    {
      "cell_type": "code",
      "source": [
        "# P14.1 Read into a list, then join\n",
        "with open(\"practice.txt\", \"r\") as f:\n",
        "    list_of_lines = f.readlines()\n",
        "\n",
        "print(\"\".join(list_of_lines))\n"
      ],
      "metadata": {
        "colab": {
          "base_uri": "https://localhost:8080/"
        },
        "id": "xt9wZG8H37SY",
        "outputId": "b287aa2d-c8a3-49ce-f4b7-9cef88921cf4"
      },
      "execution_count": 13,
      "outputs": [
        {
          "output_type": "stream",
          "name": "stdout",
          "text": [
            "Bravely bold Sir Robin\n",
            "Rode forth from Camelot\n",
            "He was not afraid to die\n",
            "\n"
          ]
        }
      ]
    },
    {
      "cell_type": "code",
      "source": [
        "# P15.1 For loop over file lines\n",
        "with open(\"practice.txt\", \"r\") as data:\n",
        "    for line in data:\n",
        "        print(line.rstrip())\n"
      ],
      "metadata": {
        "colab": {
          "base_uri": "https://localhost:8080/"
        },
        "id": "RN5EKQsY4Axl",
        "outputId": "aac04c57-7d7f-4ab3-f732-bfcb2942812c"
      },
      "execution_count": 14,
      "outputs": [
        {
          "output_type": "stream",
          "name": "stdout",
          "text": [
            "Bravely bold Sir Robin\n",
            "Rode forth from Camelot\n",
            "He was not afraid to die\n"
          ]
        }
      ]
    },
    {
      "cell_type": "code",
      "source": [
        "# P16.1 Print each word separately\n",
        "line = \"This is a sample dataset for Rosalind Problem 5\"\n",
        "for word in line.split():\n",
        "    print(word)\n"
      ],
      "metadata": {
        "colab": {
          "base_uri": "https://localhost:8080/"
        },
        "id": "tVlefOLz4CRm",
        "outputId": "d64102f7-8fe5-46aa-b0bb-96fc7c5ed6a5"
      },
      "execution_count": 15,
      "outputs": [
        {
          "output_type": "stream",
          "name": "stdout",
          "text": [
            "This\n",
            "is\n",
            "a\n",
            "sample\n",
            "dataset\n",
            "for\n",
            "Rosalind\n",
            "Problem\n",
            "5\n"
          ]
        }
      ]
    },
    {
      "cell_type": "code",
      "source": [
        "# P17.1 Create and print a dictionary\n",
        "sequences = {\n",
        "    \"H\": \"Hello\",\n",
        "    \"W\": \"World\",\n",
        "    \"ARC\": \"Alfred R. Wallace\",\n",
        "    \"CD\": \"Charles Darwin\"\n",
        "}\n",
        "print(sequences[\"CD\"])\n",
        "\n",
        "# P18.2 Count word frequencies (dictionary)\n",
        "text = \"this is a test this is only a test\"\n",
        "words = text.split()\n",
        "freq = {}\n",
        "\n",
        "for word in words:\n",
        "    if word in freq:\n",
        "        freq[word] += 1\n",
        "    else:\n",
        "        freq[word] = 1\n",
        "\n",
        "print(freq)\n"
      ],
      "metadata": {
        "colab": {
          "base_uri": "https://localhost:8080/"
        },
        "id": "jHlnfOCU4D0T",
        "outputId": "1b434d3d-81b0-4b40-e912-dea9d1527766"
      },
      "execution_count": 16,
      "outputs": [
        {
          "output_type": "stream",
          "name": "stdout",
          "text": [
            "Charles Darwin\n",
            "{'this': 2, 'is': 2, 'a': 2, 'test': 2, 'only': 1}\n"
          ]
        }
      ]
    },
    {
      "cell_type": "code",
      "source": [
        "# P19.1 Count nucleotides\n",
        "dna = \"ACGTACGTACGT\"\n",
        "print(\"A:\", dna.count(\"A\"))\n",
        "print(\"C:\", dna.count(\"C\"))\n",
        "print(\"G:\", dna.count(\"G\"))\n",
        "print(\"T:\", dna.count(\"T\"))\n",
        "\n"
      ],
      "metadata": {
        "colab": {
          "base_uri": "https://localhost:8080/"
        },
        "id": "B-exEjyv4IEe",
        "outputId": "c7993736-8f71-4473-efa1-d650bca3609f"
      },
      "execution_count": 17,
      "outputs": [
        {
          "output_type": "stream",
          "name": "stdout",
          "text": [
            "A: 3\n",
            "C: 3\n",
            "G: 3\n",
            "T: 3\n"
          ]
        }
      ]
    },
    {
      "cell_type": "code",
      "source": [
        "# P20.1 Install biopython\n",
        "!pip install biopython\n"
      ],
      "metadata": {
        "colab": {
          "base_uri": "https://localhost:8080/"
        },
        "id": "jv8vwglC4JR8",
        "outputId": "7fb5a8f6-ca8d-43fc-a5cf-4d30ebf5237c"
      },
      "execution_count": 18,
      "outputs": [
        {
          "output_type": "stream",
          "name": "stdout",
          "text": [
            "Collecting biopython\n",
            "  Downloading biopython-1.85-cp312-cp312-manylinux_2_17_x86_64.manylinux2014_x86_64.whl.metadata (13 kB)\n",
            "Requirement already satisfied: numpy in /usr/local/lib/python3.12/dist-packages (from biopython) (2.0.2)\n",
            "Downloading biopython-1.85-cp312-cp312-manylinux_2_17_x86_64.manylinux2014_x86_64.whl (3.3 MB)\n",
            "\u001b[2K   \u001b[90m━━━━━━━━━━━━━━━━━━━━━━━━━━━━━━━━━━━━━━━━\u001b[0m \u001b[32m3.3/3.3 MB\u001b[0m \u001b[31m29.3 MB/s\u001b[0m eta \u001b[36m0:00:00\u001b[0m\n",
            "\u001b[?25hInstalling collected packages: biopython\n",
            "Successfully installed biopython-1.85\n"
          ]
        }
      ]
    },
    {
      "cell_type": "code",
      "source": [
        "from Bio.Seq import Seq\n",
        "\n",
        "# Create a sequence object\n",
        "my_sequence = Seq(\"ATGGCCATTGTAATGGGCCGCTGAAAGGGTGCCCGATAG\")\n",
        "\n",
        "print(\"Complement:\", my_sequence.complement())\n",
        "print(\"Reverse complement:\", my_sequence.reverse_complement())\n",
        "print(\"Transcribed:\", my_sequence.transcribe())\n",
        "print(\"Translated:\", my_sequence.translate())\n"
      ],
      "metadata": {
        "colab": {
          "base_uri": "https://localhost:8080/"
        },
        "id": "URZUoPdd4MDs",
        "outputId": "9b22f88b-f937-4c55-ab65-a14b226e9d84"
      },
      "execution_count": 19,
      "outputs": [
        {
          "output_type": "stream",
          "name": "stdout",
          "text": [
            "Complement: TACCGGTAACATTACCCGGCGACTTTCCCACGGGCTATC\n",
            "Reverse complement: CTATCGGGCACCCTTTCAGCGGCCCATTACAATGGCCAT\n",
            "Transcribed: AUGGCCAUUGUAAUGGGCCGCUGAAAGGGUGCCCGAUAG\n",
            "Translated: MAIVMGR*KGAR*\n"
          ]
        }
      ]
    },
    {
      "cell_type": "code",
      "source": [
        "# Create a sample FASTA file for practice\n",
        "with open(\"practice_9.txt\", \"w\") as f:\n",
        "    f.write(\">seq1\\n\")\n",
        "    f.write(\"ATGCGTACGTAGCTAGCTAGCTAG\\n\")\n",
        "    f.write(\">seq2\\n\")\n",
        "    f.write(\"GGGAAACCCGGGTTTAAACCCGGG\\n\")\n",
        "    f.write(\">seq3\\n\")\n",
        "    f.write(\"ATATATATCGCGCGCGATATATAT\\n\")\n",
        "\n",
        "from Bio.SeqIO import parse\n",
        "\n",
        "for seq_record in parse(\"practice_9.txt\", \"fasta\"):\n",
        "    print(\"ID:\", seq_record.id)\n",
        "    print(\"Sequence length:\", len(seq_record.seq))\n",
        "    print(seq_record.seq)\n"
      ],
      "metadata": {
        "colab": {
          "base_uri": "https://localhost:8080/"
        },
        "id": "9xiGszIP4QUt",
        "outputId": "52c24132-ff92-4c19-dd8a-50503529f7c8"
      },
      "execution_count": 21,
      "outputs": [
        {
          "output_type": "stream",
          "name": "stdout",
          "text": [
            "ID: seq1\n",
            "Sequence length: 24\n",
            "ATGCGTACGTAGCTAGCTAGCTAG\n",
            "ID: seq2\n",
            "Sequence length: 24\n",
            "GGGAAACCCGGGTTTAAACCCGGG\n",
            "ID: seq3\n",
            "Sequence length: 24\n",
            "ATATATATCGCGCGCGATATATAT\n"
          ]
        }
      ]
    },
    {
      "cell_type": "code",
      "source": [
        "from Bio.SeqIO import parse\n",
        "from Bio.SeqUtils import gc_fraction\n",
        "\n",
        "for seq_record in parse(\"practice_9.txt\", \"fasta\"):\n",
        "    print(\"ID:\", seq_record.id)\n",
        "    print(\"GC content:\", gc_fraction(seq_record.seq))\n"
      ],
      "metadata": {
        "colab": {
          "base_uri": "https://localhost:8080/"
        },
        "id": "SnukMqrU4cAL",
        "outputId": "2d2ef5bf-d2da-4837-d996-63f343ad811c"
      },
      "execution_count": 22,
      "outputs": [
        {
          "output_type": "stream",
          "name": "stdout",
          "text": [
            "ID: seq1\n",
            "GC content: 0.5\n",
            "ID: seq2\n",
            "GC content: 0.625\n",
            "ID: seq3\n",
            "GC content: 0.3333333333333333\n"
          ]
        }
      ]
    }
  ]
}